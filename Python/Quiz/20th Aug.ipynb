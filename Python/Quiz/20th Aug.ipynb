{
 "cells": [
  {
   "cell_type": "code",
   "execution_count": 2,
   "id": "2eda63a4-b83e-4679-80a9-308250e6fb06",
   "metadata": {},
   "outputs": [],
   "source": [
    "l1 =[1,True,\"Test\",2+4j]"
   ]
  },
  {
   "cell_type": "code",
   "execution_count": 3,
   "id": "bc93aeca-ac3a-498e-a64e-2f6fc51e1cc7",
   "metadata": {},
   "outputs": [
    {
     "data": {
      "text/plain": [
       "list"
      ]
     },
     "execution_count": 3,
     "metadata": {},
     "output_type": "execute_result"
    }
   ],
   "source": [
    "type(l1)"
   ]
  },
  {
   "cell_type": "code",
   "execution_count": 4,
   "id": "4afe0cfb-0a25-4bb8-92fb-89318c2c9486",
   "metadata": {},
   "outputs": [],
   "source": [
    "str1 = \"test string\""
   ]
  },
  {
   "cell_type": "code",
   "execution_count": 5,
   "id": "6ab24392-ce21-495a-a12b-131a30a21953",
   "metadata": {},
   "outputs": [
    {
     "data": {
      "text/plain": [
       "str"
      ]
     },
     "execution_count": 5,
     "metadata": {},
     "output_type": "execute_result"
    }
   ],
   "source": [
    "type(str1)"
   ]
  },
  {
   "cell_type": "code",
   "execution_count": 6,
   "id": "56917f24-3932-4a58-916c-f1ab89e77f29",
   "metadata": {},
   "outputs": [],
   "source": [
    "s1 = {1,2,4,\"test\"}"
   ]
  },
  {
   "cell_type": "code",
   "execution_count": 7,
   "id": "b49f545e-6604-41bf-9f18-0499c46584ae",
   "metadata": {},
   "outputs": [
    {
     "data": {
      "text/plain": [
       "set"
      ]
     },
     "execution_count": 7,
     "metadata": {},
     "output_type": "execute_result"
    }
   ],
   "source": [
    "type(s1)"
   ]
  },
  {
   "cell_type": "code",
   "execution_count": 8,
   "id": "2a0d70ba-be13-4c63-8412-ce72cf9289bc",
   "metadata": {},
   "outputs": [],
   "source": [
    "t1 = (1,2,3,\"test\")"
   ]
  },
  {
   "cell_type": "code",
   "execution_count": 9,
   "id": "9f920524-2e3b-4500-9cdb-adefbda2d4ea",
   "metadata": {},
   "outputs": [
    {
     "data": {
      "text/plain": [
       "tuple"
      ]
     },
     "execution_count": 9,
     "metadata": {},
     "output_type": "execute_result"
    }
   ],
   "source": [
    "type(t1)"
   ]
  },
  {
   "cell_type": "code",
   "execution_count": 10,
   "id": "8b76dd4f-fee2-4f9d-86ee-4cfe6214bced",
   "metadata": {},
   "outputs": [],
   "source": [
    "d1 = {1:\"test\",'test':1}"
   ]
  },
  {
   "cell_type": "code",
   "execution_count": 11,
   "id": "0c74b127-ea5d-4b0a-ba6a-94c0304494c0",
   "metadata": {},
   "outputs": [
    {
     "data": {
      "text/plain": [
       "dict"
      ]
     },
     "execution_count": 11,
     "metadata": {},
     "output_type": "execute_result"
    }
   ],
   "source": [
    "type(d1)"
   ]
  },
  {
   "cell_type": "code",
   "execution_count": 17,
   "id": "df946c89-e064-43b7-a3bf-ee69758cceee",
   "metadata": {},
   "outputs": [],
   "source": [
    "x = set()"
   ]
  },
  {
   "cell_type": "code",
   "execution_count": 18,
   "id": "0ac89077-9e4b-45ab-a083-52661e211e91",
   "metadata": {},
   "outputs": [
    {
     "data": {
      "text/plain": [
       "set"
      ]
     },
     "execution_count": 18,
     "metadata": {},
     "output_type": "execute_result"
    }
   ],
   "source": [
    "type(x)"
   ]
  },
  {
   "cell_type": "code",
   "execution_count": 19,
   "id": "cbb1cac3-cdc9-4ae1-9ece-010bd987af88",
   "metadata": {},
   "outputs": [],
   "source": [
    "x.add('test')"
   ]
  },
  {
   "cell_type": "code",
   "execution_count": 20,
   "id": "2ab5272f-6384-4a60-8f23-48f639358845",
   "metadata": {},
   "outputs": [
    {
     "data": {
      "text/plain": [
       "{'test'}"
      ]
     },
     "execution_count": 20,
     "metadata": {},
     "output_type": "execute_result"
    }
   ],
   "source": [
    "x"
   ]
  },
  {
   "cell_type": "code",
   "execution_count": 21,
   "id": "a173689c-a15d-478c-a953-e5df771f5372",
   "metadata": {},
   "outputs": [
    {
     "data": {
      "text/plain": [
       "dict_keys([1, 'test'])"
      ]
     },
     "execution_count": 21,
     "metadata": {},
     "output_type": "execute_result"
    }
   ],
   "source": [
    "d1.keys()"
   ]
  },
  {
   "cell_type": "code",
   "execution_count": 22,
   "id": "cbe82d60-dfda-4d36-ba60-aaa375bf6814",
   "metadata": {},
   "outputs": [
    {
     "data": {
      "text/plain": [
       "[1, True, 'Test', (2+4j)]"
      ]
     },
     "execution_count": 22,
     "metadata": {},
     "output_type": "execute_result"
    }
   ],
   "source": [
    "l1"
   ]
  },
  {
   "cell_type": "code",
   "execution_count": 23,
   "id": "fc76776a-27dd-42c1-8302-a0bbe8974761",
   "metadata": {},
   "outputs": [
    {
     "data": {
      "text/plain": [
       "'Test'"
      ]
     },
     "execution_count": 23,
     "metadata": {},
     "output_type": "execute_result"
    }
   ],
   "source": [
    "l1[2]"
   ]
  },
  {
   "cell_type": "code",
   "execution_count": 24,
   "id": "0a0d35c9-680c-4ae4-9ea4-13835be72e51",
   "metadata": {},
   "outputs": [],
   "source": [
    "x.discard('test')"
   ]
  },
  {
   "cell_type": "code",
   "execution_count": 25,
   "id": "cff963ee-8a7e-4240-ae2a-7a24db2fe389",
   "metadata": {},
   "outputs": [
    {
     "data": {
      "text/plain": [
       "set()"
      ]
     },
     "execution_count": 25,
     "metadata": {},
     "output_type": "execute_result"
    }
   ],
   "source": [
    "x"
   ]
  },
  {
   "cell_type": "code",
   "execution_count": 27,
   "id": "ebebb0d4-e998-4bd4-86e1-e9ae067d667d",
   "metadata": {},
   "outputs": [],
   "source": [
    "x.add('test')"
   ]
  },
  {
   "cell_type": "code",
   "execution_count": 28,
   "id": "37511907-f38d-4361-b460-051b0be41b25",
   "metadata": {},
   "outputs": [
    {
     "data": {
      "text/plain": [
       "{'test'}"
      ]
     },
     "execution_count": 28,
     "metadata": {},
     "output_type": "execute_result"
    }
   ],
   "source": [
    "x"
   ]
  },
  {
   "cell_type": "code",
   "execution_count": 31,
   "id": "22235991-28ed-4bac-a360-09fb79787dbc",
   "metadata": {},
   "outputs": [],
   "source": [
    "x.update('test','adf')"
   ]
  },
  {
   "cell_type": "code",
   "execution_count": 32,
   "id": "ca39b316-c8a0-43fe-a4e8-e2abae8018d8",
   "metadata": {},
   "outputs": [
    {
     "data": {
      "text/plain": [
       "{'a', 'd', 'e', 'f', 's', 't', 'test'}"
      ]
     },
     "execution_count": 32,
     "metadata": {},
     "output_type": "execute_result"
    }
   ],
   "source": [
    "x"
   ]
  },
  {
   "cell_type": "code",
   "execution_count": 33,
   "id": "11e837ea-a0ed-419c-9383-97f3d30505ed",
   "metadata": {},
   "outputs": [
    {
     "data": {
      "text/plain": [
       "tuple"
      ]
     },
     "execution_count": 33,
     "metadata": {},
     "output_type": "execute_result"
    }
   ],
   "source": [
    "type((1,2,3))"
   ]
  },
  {
   "cell_type": "code",
   "execution_count": 34,
   "id": "446b1f98-6e11-41a8-8ba2-dd4e5e966499",
   "metadata": {},
   "outputs": [
    {
     "data": {
      "text/plain": [
       "{1: 1, 2: 4, 3: 9}"
      ]
     },
     "execution_count": 34,
     "metadata": {},
     "output_type": "execute_result"
    }
   ],
   "source": [
    "{1:1, 2:4, 3:9}"
   ]
  },
  {
   "cell_type": "code",
   "execution_count": 40,
   "id": "1b3de6e1-59c5-4888-82b2-35088331d27d",
   "metadata": {},
   "outputs": [],
   "source": [
    "a =set([1,2,3])"
   ]
  },
  {
   "cell_type": "code",
   "execution_count": 42,
   "id": "23e6b060-6350-4935-8b56-c117948fd630",
   "metadata": {},
   "outputs": [
    {
     "data": {
      "text/plain": [
       "set"
      ]
     },
     "execution_count": 42,
     "metadata": {},
     "output_type": "execute_result"
    }
   ],
   "source": [
    "type(a)"
   ]
  },
  {
   "cell_type": "code",
   "execution_count": 49,
   "id": "b747fabe-7da3-4422-89e4-96d20e1a7db6",
   "metadata": {},
   "outputs": [],
   "source": [
    "asdf=[]"
   ]
  },
  {
   "cell_type": "code",
   "execution_count": 50,
   "id": "91e81031-0ba1-48a9-8ef6-8ff8a2bb6c9e",
   "metadata": {},
   "outputs": [
    {
     "data": {
      "text/plain": [
       "list"
      ]
     },
     "execution_count": 50,
     "metadata": {},
     "output_type": "execute_result"
    }
   ],
   "source": [
    "type(asdf)"
   ]
  },
  {
   "cell_type": "code",
   "execution_count": 56,
   "id": "436b6f8a-c529-4e23-8270-2397c5368b76",
   "metadata": {},
   "outputs": [],
   "source": [
    "q = {'key': (1,2,3)}"
   ]
  },
  {
   "cell_type": "code",
   "execution_count": 57,
   "id": "09372812-53d9-4342-9759-36a055e4986c",
   "metadata": {},
   "outputs": [
    {
     "data": {
      "text/plain": [
       "dict"
      ]
     },
     "execution_count": 57,
     "metadata": {},
     "output_type": "execute_result"
    }
   ],
   "source": [
    "type(q)"
   ]
  },
  {
   "cell_type": "code",
   "execution_count": 58,
   "id": "4d39c63c-a4e9-49d4-98c9-83f1a869e4a0",
   "metadata": {},
   "outputs": [],
   "source": [
    "asdf.append('a')"
   ]
  },
  {
   "cell_type": "code",
   "execution_count": 59,
   "id": "1600e5ae-a808-4c8c-a9c9-b7677e336490",
   "metadata": {},
   "outputs": [
    {
     "data": {
      "text/plain": [
       "['a']"
      ]
     },
     "execution_count": 59,
     "metadata": {},
     "output_type": "execute_result"
    }
   ],
   "source": [
    "asdf"
   ]
  },
  {
   "cell_type": "code",
   "execution_count": 60,
   "id": "3a51d07d-131c-4ad6-b66c-9d2ba13b5e56",
   "metadata": {},
   "outputs": [],
   "source": [
    "asdf.append(1)"
   ]
  },
  {
   "cell_type": "code",
   "execution_count": 61,
   "id": "eab1073a-5574-41d4-90f8-47716fbeec9b",
   "metadata": {},
   "outputs": [
    {
     "data": {
      "text/plain": [
       "['a', 1]"
      ]
     },
     "execution_count": 61,
     "metadata": {},
     "output_type": "execute_result"
    }
   ],
   "source": [
    "asdf"
   ]
  },
  {
   "cell_type": "code",
   "execution_count": 62,
   "id": "b36d59d2-10af-4108-9412-6fedb378ac38",
   "metadata": {},
   "outputs": [
    {
     "ename": "AttributeError",
     "evalue": "'list' object has no attribute 'add'",
     "output_type": "error",
     "traceback": [
      "\u001b[0;31m---------------------------------------------------------------------------\u001b[0m",
      "\u001b[0;31mAttributeError\u001b[0m                            Traceback (most recent call last)",
      "Cell \u001b[0;32mIn[62], line 1\u001b[0m\n\u001b[0;32m----> 1\u001b[0m \u001b[43masdf\u001b[49m\u001b[38;5;241;43m.\u001b[39;49m\u001b[43madd\u001b[49m(\u001b[38;5;241m3\u001b[39m)\n",
      "\u001b[0;31mAttributeError\u001b[0m: 'list' object has no attribute 'add'"
     ]
    }
   ],
   "source": [
    "asdf.add(3)"
   ]
  },
  {
   "cell_type": "code",
   "execution_count": 63,
   "id": "9d048904-df85-4919-b6c2-bcda68e95315",
   "metadata": {},
   "outputs": [],
   "source": [
    "asdf.remove('a')"
   ]
  },
  {
   "cell_type": "code",
   "execution_count": 64,
   "id": "b2c6a36d-445f-4035-aa7c-4b6739264222",
   "metadata": {},
   "outputs": [
    {
     "data": {
      "text/plain": [
       "[1]"
      ]
     },
     "execution_count": 64,
     "metadata": {},
     "output_type": "execute_result"
    }
   ],
   "source": [
    "asdf"
   ]
  },
  {
   "cell_type": "code",
   "execution_count": 65,
   "id": "9a460d24-34de-4dcd-ae19-275ae5abc573",
   "metadata": {},
   "outputs": [
    {
     "data": {
      "text/plain": [
       "(1, 2, 3)"
      ]
     },
     "execution_count": 65,
     "metadata": {},
     "output_type": "execute_result"
    }
   ],
   "source": [
    "q['key']"
   ]
  },
  {
   "cell_type": "code",
   "execution_count": 66,
   "id": "09ca9a3f-4ba3-438e-9886-5c86203955c1",
   "metadata": {},
   "outputs": [
    {
     "data": {
      "text/plain": [
       "dict_keys(['key'])"
      ]
     },
     "execution_count": 66,
     "metadata": {},
     "output_type": "execute_result"
    }
   ],
   "source": [
    "q.keys()"
   ]
  },
  {
   "cell_type": "code",
   "execution_count": 67,
   "id": "36165e04-6841-4c7a-92dc-e3048a600d03",
   "metadata": {},
   "outputs": [
    {
     "data": {
      "text/plain": [
       "{'key': (1, 2, 3)}"
      ]
     },
     "execution_count": 67,
     "metadata": {},
     "output_type": "execute_result"
    }
   ],
   "source": [
    "q"
   ]
  },
  {
   "cell_type": "code",
   "execution_count": 70,
   "id": "e526c07b-a036-453a-8395-af0cc8356b1d",
   "metadata": {},
   "outputs": [
    {
     "ename": "SyntaxError",
     "evalue": "invalid syntax (4185564934.py, line 1)",
     "output_type": "error",
     "traceback": [
      "\u001b[0;36m  Cell \u001b[0;32mIn[70], line 1\u001b[0;36m\u001b[0m\n\u001b[0;31m    list{'a'}\u001b[0m\n\u001b[0m        ^\u001b[0m\n\u001b[0;31mSyntaxError\u001b[0m\u001b[0;31m:\u001b[0m invalid syntax\n"
     ]
    }
   ],
   "source": [
    "list{'a'}"
   ]
  },
  {
   "cell_type": "code",
   "execution_count": 71,
   "id": "966a8531-e1b3-4dba-8b53-6d88474171d9",
   "metadata": {},
   "outputs": [
    {
     "data": {
      "text/plain": [
       "list"
      ]
     },
     "execution_count": 71,
     "metadata": {},
     "output_type": "execute_result"
    }
   ],
   "source": [
    "type(asdf)"
   ]
  },
  {
   "cell_type": "code",
   "execution_count": 77,
   "id": "18405bb8-d687-4420-839c-b31708df020b",
   "metadata": {},
   "outputs": [
    {
     "ename": "TypeError",
     "evalue": "list.append() takes exactly one argument (3 given)",
     "output_type": "error",
     "traceback": [
      "\u001b[0;31m---------------------------------------------------------------------------\u001b[0m",
      "\u001b[0;31mTypeError\u001b[0m                                 Traceback (most recent call last)",
      "Cell \u001b[0;32mIn[77], line 1\u001b[0m\n\u001b[0;32m----> 1\u001b[0m \u001b[43masdf\u001b[49m\u001b[38;5;241;43m.\u001b[39;49m\u001b[43mappend\u001b[49m\u001b[43m(\u001b[49m\u001b[38;5;241;43m1\u001b[39;49m\u001b[43m,\u001b[49m\u001b[38;5;241;43m4\u001b[39;49m\u001b[43m,\u001b[49m\u001b[38;5;124;43m'\u001b[39;49m\u001b[38;5;124;43ma\u001b[39;49m\u001b[38;5;124;43m'\u001b[39;49m\u001b[43m)\u001b[49m\n",
      "\u001b[0;31mTypeError\u001b[0m: list.append() takes exactly one argument (3 given)"
     ]
    }
   ],
   "source": [
    "asdf.append(1,4,'a')"
   ]
  },
  {
   "cell_type": "code",
   "execution_count": 78,
   "id": "80804350-a8c3-4516-bb50-1e92dd9733ae",
   "metadata": {},
   "outputs": [
    {
     "data": {
      "text/plain": [
       "{1, 2, 4, 'test'}"
      ]
     },
     "execution_count": 78,
     "metadata": {},
     "output_type": "execute_result"
    }
   ],
   "source": [
    "s1"
   ]
  },
  {
   "cell_type": "code",
   "execution_count": 79,
   "id": "6575136c-68e9-4060-87d5-712e9000d225",
   "metadata": {},
   "outputs": [
    {
     "data": {
      "text/plain": [
       "set"
      ]
     },
     "execution_count": 79,
     "metadata": {},
     "output_type": "execute_result"
    }
   ],
   "source": [
    "type(s1)"
   ]
  },
  {
   "cell_type": "code",
   "execution_count": 81,
   "id": "93675103-c288-4f96-b0a6-1a87231677ff",
   "metadata": {},
   "outputs": [
    {
     "data": {
      "text/plain": [
       "{1: 'test', 'test': 1}"
      ]
     },
     "execution_count": 81,
     "metadata": {},
     "output_type": "execute_result"
    }
   ],
   "source": [
    "d1"
   ]
  },
  {
   "cell_type": "code",
   "execution_count": 82,
   "id": "9d1c4e8b-29ba-4ab1-9673-f83d92b28381",
   "metadata": {},
   "outputs": [
    {
     "data": {
      "text/plain": [
       "'test'"
      ]
     },
     "execution_count": 82,
     "metadata": {},
     "output_type": "execute_result"
    }
   ],
   "source": [
    "d1.pop(1)"
   ]
  },
  {
   "cell_type": "code",
   "execution_count": 83,
   "id": "e9a4d1e8-695e-4600-86bb-3dbb20650602",
   "metadata": {},
   "outputs": [
    {
     "data": {
      "text/plain": [
       "{'test': 1}"
      ]
     },
     "execution_count": 83,
     "metadata": {},
     "output_type": "execute_result"
    }
   ],
   "source": [
    "d1"
   ]
  },
  {
   "cell_type": "code",
   "execution_count": 84,
   "id": "35896a11-5017-4e41-8055-facd522fa2f4",
   "metadata": {},
   "outputs": [
    {
     "ename": "TypeError",
     "evalue": "dict.popitem() takes no arguments (1 given)",
     "output_type": "error",
     "traceback": [
      "\u001b[0;31m---------------------------------------------------------------------------\u001b[0m",
      "\u001b[0;31mTypeError\u001b[0m                                 Traceback (most recent call last)",
      "Cell \u001b[0;32mIn[84], line 1\u001b[0m\n\u001b[0;32m----> 1\u001b[0m \u001b[43md1\u001b[49m\u001b[38;5;241;43m.\u001b[39;49m\u001b[43mpopitem\u001b[49m\u001b[43m(\u001b[49m\u001b[38;5;124;43m'\u001b[39;49m\u001b[38;5;124;43mtest\u001b[39;49m\u001b[38;5;124;43m'\u001b[39;49m\u001b[43m)\u001b[49m\n",
      "\u001b[0;31mTypeError\u001b[0m: dict.popitem() takes no arguments (1 given)"
     ]
    }
   ],
   "source": [
    "d1.popitem('test')"
   ]
  },
  {
   "cell_type": "code",
   "execution_count": 85,
   "id": "859e0aa2-c5a5-4c38-a1af-ae520b4fa841",
   "metadata": {},
   "outputs": [
    {
     "data": {
      "text/plain": [
       "dict_items([('test', 1)])"
      ]
     },
     "execution_count": 85,
     "metadata": {},
     "output_type": "execute_result"
    }
   ],
   "source": [
    "d1.items()"
   ]
  },
  {
   "cell_type": "code",
   "execution_count": 86,
   "id": "245e5a2e-3e16-4228-93eb-8ece7e8fa4c5",
   "metadata": {},
   "outputs": [
    {
     "data": {
      "text/plain": [
       "(1, 2, 3, 'test')"
      ]
     },
     "execution_count": 86,
     "metadata": {},
     "output_type": "execute_result"
    }
   ],
   "source": [
    "t1"
   ]
  },
  {
   "cell_type": "code",
   "execution_count": 94,
   "id": "ecb0f2a9-b41a-4882-b3e7-197d2c61e746",
   "metadata": {},
   "outputs": [],
   "source": [
    "d2 = {'key': 'value'}"
   ]
  },
  {
   "cell_type": "code",
   "execution_count": 95,
   "id": "6111e96e-6fa5-4caa-b4b2-b479501d2b36",
   "metadata": {},
   "outputs": [
    {
     "data": {
      "text/plain": [
       "dict"
      ]
     },
     "execution_count": 95,
     "metadata": {},
     "output_type": "execute_result"
    }
   ],
   "source": [
    "type(d2)"
   ]
  },
  {
   "cell_type": "code",
   "execution_count": 96,
   "id": "b7e46e7d-c33d-4f60-a2d8-45abebf4e788",
   "metadata": {},
   "outputs": [
    {
     "data": {
      "text/plain": [
       "{1, 2, 4, 'test'}"
      ]
     },
     "execution_count": 96,
     "metadata": {},
     "output_type": "execute_result"
    }
   ],
   "source": [
    "s1"
   ]
  },
  {
   "cell_type": "code",
   "execution_count": 97,
   "id": "f60c12b9-b1c4-48e8-8c88-3b0adea47ced",
   "metadata": {},
   "outputs": [],
   "source": [
    "s1.clear()"
   ]
  },
  {
   "cell_type": "code",
   "execution_count": 98,
   "id": "92141e28-6d20-4e8b-9a17-967406d3deb3",
   "metadata": {},
   "outputs": [
    {
     "data": {
      "text/plain": [
       "set()"
      ]
     },
     "execution_count": 98,
     "metadata": {},
     "output_type": "execute_result"
    }
   ],
   "source": [
    "s1"
   ]
  },
  {
   "cell_type": "markdown",
   "id": "a0e4c00f-1f51-4765-a237-215ca485a2c2",
   "metadata": {},
   "source": [
    "01. Lists in Python are mutable, meaning their elements can be changed after they are created.\n",
    "02. The `set()` function creates an empty set. `{}` creates an empty dictionary\n",
    "03. Dictionaries in Python are used to store key-value pairs\n",
    "04. As of Python 3.7, dictionaries maintain the order of items. Lists are also ordered.\n",
    "05. Sets in Python do not allow duplicate elements.\n",
    "06. Tuples are immutable, meaning their elements cannot be changed after they are created.\n",
    "07. The `add()` method is used to add an element to a set.\n",
    "08. The `keys()` method returns all keys from a dictionary.\n",
    "09. Parentheses `()` are used to create tuples in Python\n",
    "10. In Python, indexing starts from 0. So, the third element is accessed using index 2.\n",
    "11. Both `remove()` and `discard()` methods can be used to remove a specific element from a set. However, `remove()` raises an error if the element is not found, while `discard()` does not.\n",
    "12. Dictionary keys must be immutable. Tuples are immutable, so they can be used as dictionary keys.\n",
    "13. The `update()` method is used to add multiple items to a set.\n",
    "14. `(1,2,3)` is a tuple, so its type is `<class 'tuple'>`.\n",
    "15. The `pop()` method removes the last item from a list if no index is provided.\n",
    "16. Dictionaries are created using curly braces `{}` with key-value pairs separated by colons.\n",
    "17. The `values()` method returns a list of all the values in a dictionary.\n",
    "18. The correct syntax to create a set using the `set()` function is `set([1,2,3])`.\n",
    "19. A tuple with a single element is defined by placing a comma after the element.\n",
    "20. The `get()` method is used to retrieve the value of a given key in a dictionary.\n",
    "21. Square brackets `[]` are used to create an empty list.\n",
    "22. Dictionary keys must be immutable. Lists are mutable and cannot be used as dictionary keys.\n",
    "23. Lists are created using square brackets `[]` with elements separated by commas.\n",
    "24. The `append()` method adds an element to the end of a list.\n",
    "25. Tuples are created using parentheses `()` with elements separated by commas.\n",
    "26. The `remove()` method removes the first occurrence of a value from a list.\n",
    "27. Dictionary values are accessed using their keys inside square brackets.\n",
    "28. The `keys()` method returns a list of all the keys in a dictionary.\n",
    "29. The correct syntax to create a list using the `list()` function is `list([1,2,3])`.\n",
    "30. The `extend()` method adds multiple items to a list.\n",
    "31. Sets are created using curly braces `{}` with elements separated by commas.\n",
    "32. The `clear()` method removes all items from a set.\n",
    "33. Key-value pairs are added to dictionaries by assigning a value to a key using the assignment operator.\n",
    "34. The correct syntax to create a tuple using the `tuple()` function is `tuple((1,2,3))`.\n",
    "35. The `pop()` method removes a key-value pair from a dictionary using the key.\n",
    "36. To check if a key exists in a dictionary, you can use the `in` keyword.\n",
    "37. The `values()` method returns a list of all the values in a dictionary.\n",
    "38. The correct syntax to create a dictionary using the `dict()` function is `dict(key='value')`.\n",
    "39. Tuples are immutable, so you cannot add elements to them.\n",
    "40. Tuples are immutable, so you cannot remove elements from them.\n",
    "41. The `update()` method adds multiple key-value pairs to a dictionary.\n",
    "42. The `keys()` method returns a list of all the keys in a dictionary.\n",
    "43. To check if a value exists in a dictionary, you can use the `in` keyword with the `values()` method.\n",
    "44. -\n",
    "45. There is no built-in method to remove a key-value pair from a dictionary using the value. You would need to iterate through the dictionary and find the key associated with the value to remove it.\n",
    "46. The `add()` method adds an element to a set.\n",
    "47. The 'set' object has no attribute 'delete', it raises a AttributeError.\n",
    "48. To check if an element exists in a set, you can use the `in` keyword.\n",
    "49. Sets do not have a method to return a list of all elements. You can simply iterate through the set or convert it to a list using the `list()` function.\n",
    "50. The `update()` method adds multiple elements to a set."
   ]
  },
  {
   "cell_type": "code",
   "execution_count": null,
   "id": "e136bf81-02c4-4fad-a6b6-221bf80095c3",
   "metadata": {},
   "outputs": [],
   "source": []
  }
 ],
 "metadata": {
  "kernelspec": {
   "display_name": "Python 3 (ipykernel)",
   "language": "python",
   "name": "python3"
  },
  "language_info": {
   "codemirror_mode": {
    "name": "ipython",
    "version": 3
   },
   "file_extension": ".py",
   "mimetype": "text/x-python",
   "name": "python",
   "nbconvert_exporter": "python",
   "pygments_lexer": "ipython3",
   "version": "3.10.8"
  }
 },
 "nbformat": 4,
 "nbformat_minor": 5
}
