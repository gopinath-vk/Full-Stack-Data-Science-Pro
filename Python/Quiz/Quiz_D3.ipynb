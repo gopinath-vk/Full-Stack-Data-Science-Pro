{
 "cells": [
  {
   "cell_type": "code",
   "execution_count": 1,
   "id": "9021138c-ab4f-47f4-b1f4-897a23953481",
   "metadata": {},
   "outputs": [
    {
     "name": "stdout",
     "output_type": "stream",
     "text": [
      "eligible\n"
     ]
    }
   ],
   "source": [
    "age = 19\n",
    "\n",
    "if (age>18):\n",
    "    print('eligible')"
   ]
  },
  {
   "cell_type": "code",
   "execution_count": 2,
   "id": "1d78c0a8-bec6-4dc6-86bf-f23f0833b894",
   "metadata": {},
   "outputs": [
    {
     "name": "stdout",
     "output_type": "stream",
     "text": [
      "B\n"
     ]
    }
   ],
   "source": [
    "x = 5  \n",
    "if x > 10:\n",
    "    print('A')\n",
    "elif x > 3:\n",
    "    print('B')\n",
    "else:\n",
    "    print('C')"
   ]
  },
  {
   "cell_type": "code",
   "execution_count": 3,
   "id": "1c6ef2be-465f-4638-8959-93a9f72227d9",
   "metadata": {},
   "outputs": [
    {
     "name": "stdout",
     "output_type": "stream",
     "text": [
      "B\n"
     ]
    }
   ],
   "source": [
    "x = 7  \n",
    "if x < 5:\n",
    "    print('A')\n",
    "else:\n",
    "    if x == 7:\n",
    "        print('B')\n",
    "    else:\n",
    "        print('C')"
   ]
  },
  {
   "cell_type": "code",
   "execution_count": 4,
   "id": "c15c8e6f-7f38-4095-bca2-b7988849ecc1",
   "metadata": {},
   "outputs": [
    {
     "name": "stdout",
     "output_type": "stream",
     "text": [
      "B\n"
     ]
    }
   ],
   "source": [
    "x = 12  \n",
    "if x < 5:\n",
    "    print('A')\n",
    "elif x > 10:\n",
    "    print('B')\n",
    "else:\n",
    "    print('C')"
   ]
  },
  {
   "cell_type": "code",
   "execution_count": 6,
   "id": "e4bc7c26-91dc-45af-9a5d-f1997faca1a6",
   "metadata": {},
   "outputs": [
    {
     "name": "stdout",
     "output_type": "stream",
     "text": [
      "B\n"
     ]
    }
   ],
   "source": [
    "x = 7  \n",
    "if x > 10:\n",
    "    print('A')\n",
    "elif x == 7:\n",
    "    print('B')\n",
    "else:\n",
    "    print('C')"
   ]
  },
  {
   "cell_type": "code",
   "execution_count": 7,
   "id": "2b2257a8-e9ce-472f-b5d1-ec76c3ed4635",
   "metadata": {},
   "outputs": [
    {
     "name": "stdout",
     "output_type": "stream",
     "text": [
      "A\n"
     ]
    }
   ],
   "source": [
    "x = 15  \n",
    "if x > 10:\n",
    "    print('A')\n",
    "elif x < 20:\n",
    "    print('B')\n",
    "else:\n",
    "    print('C')"
   ]
  },
  {
   "cell_type": "code",
   "execution_count": 8,
   "id": "d61cc85a-57d6-4c34-acd6-bb0dff73eff5",
   "metadata": {},
   "outputs": [
    {
     "name": "stdout",
     "output_type": "stream",
     "text": [
      "B\n"
     ]
    }
   ],
   "source": [
    "x = 5\n",
    "if x > 10:\n",
    "   print(\"A\")\n",
    "elif x > 3:\n",
    "   print(\"B\")\n",
    "elif x == 5:\n",
    "   print(\"C\")\n",
    "else:\n",
    "   print(\"D\")"
   ]
  },
  {
   "cell_type": "code",
   "execution_count": 9,
   "id": "38d9e156-495b-4130-afa0-dd1e9e25371d",
   "metadata": {},
   "outputs": [
    {
     "name": "stdout",
     "output_type": "stream",
     "text": [
      "B\n"
     ]
    }
   ],
   "source": [
    "x = 10\n",
    "\n",
    "if x < 5:\n",
    "\n",
    "   print(\"A\")\n",
    "\n",
    "elif x > 5:\n",
    "\n",
    "   print(\"B\")\n",
    "\n",
    "else:\n",
    "\n",
    "   print(\"C\")"
   ]
  },
  {
   "cell_type": "code",
   "execution_count": 10,
   "id": "82212a7b-0cdc-4240-b4e1-15039b793b4a",
   "metadata": {},
   "outputs": [
    {
     "name": "stdout",
     "output_type": "stream",
     "text": [
      "B\n"
     ]
    }
   ],
   "source": [
    "x = 10\n",
    "\n",
    "if x < 5:\n",
    "\n",
    "   print(\"A\")\n",
    "\n",
    "if x > 5:\n",
    "\n",
    "   print(\"B\")\n",
    "\n",
    "else:\n",
    "\n",
    "   print(\"C\")"
   ]
  },
  {
   "cell_type": "code",
   "execution_count": 11,
   "id": "4a698d16-84b5-49d6-89fb-41937dd3e38d",
   "metadata": {},
   "outputs": [
    {
     "name": "stdout",
     "output_type": "stream",
     "text": [
      "A\n",
      "B\n"
     ]
    }
   ],
   "source": [
    "x = 5\n",
    "\n",
    "if x > 3:\n",
    "\n",
    "   print(\"A\")\n",
    "\n",
    "if x == 5:\n",
    "\n",
    "   print(\"B\")\n",
    "\n",
    "else:\n",
    "\n",
    "   print(\"C\")"
   ]
  },
  {
   "cell_type": "code",
   "execution_count": 12,
   "id": "fcd93097-8890-4a67-b1a7-88662d0a827b",
   "metadata": {},
   "outputs": [
    {
     "name": "stdout",
     "output_type": "stream",
     "text": [
      "B\n"
     ]
    }
   ],
   "source": [
    "x = 7\n",
    "\n",
    "if x > 10:\n",
    "\n",
    "   print(\"A\")\n",
    "\n",
    "elif x > 5:\n",
    "\n",
    "   print(\"B\")\n",
    "\n",
    "elif x == 7:\n",
    "\n",
    "   print(\"C\")\n",
    "\n",
    "else:\n",
    "\n",
    "   print(\"D\")"
   ]
  },
  {
   "cell_type": "code",
   "execution_count": 13,
   "id": "0b749acd-19f1-4f52-a7d5-d6948746dad5",
   "metadata": {},
   "outputs": [
    {
     "name": "stdout",
     "output_type": "stream",
     "text": [
      "B\n"
     ]
    }
   ],
   "source": [
    "x = 5\n",
    "\n",
    "if x > 10:\n",
    "\n",
    "   print(\"A\")\n",
    "\n",
    "elif x > 3:\n",
    "\n",
    "   print(\"B\")\n",
    "\n",
    "elif x == 5:\n",
    "\n",
    "   print(\"C\")\n",
    "\n",
    "elif x > 2:\n",
    "\n",
    "   print(\"D\")\n",
    "\n",
    "else:\n",
    "\n",
    "   print(\"E\")"
   ]
  },
  {
   "cell_type": "code",
   "execution_count": 14,
   "id": "80f7dce7-0163-4825-be72-12b3eaa8c3fa",
   "metadata": {},
   "outputs": [
    {
     "name": "stdout",
     "output_type": "stream",
     "text": [
      "B\n"
     ]
    }
   ],
   "source": [
    "x = 7\n",
    "\n",
    "if x > 10:\n",
    "\n",
    "   print(\"A\")\n",
    "\n",
    "elif x > 5:\n",
    "\n",
    "   print(\"B\")\n",
    "\n",
    "elif x > 2:\n",
    "\n",
    "   print(\"C\")\n",
    "\n",
    "else:\n",
    "\n",
    "   print(\"D\")"
   ]
  },
  {
   "cell_type": "code",
   "execution_count": 15,
   "id": "32dd2578-4a90-4713-b053-befa482e621d",
   "metadata": {},
   "outputs": [
    {
     "name": "stdout",
     "output_type": "stream",
     "text": [
      "C\n"
     ]
    }
   ],
   "source": [
    "x = 1\n",
    "\n",
    "if x > 2:\n",
    "\n",
    "   print(\"A\")\n",
    "\n",
    "elif x > 1:\n",
    "\n",
    "   print(\"B\")\n",
    "\n",
    "elif x > 0:\n",
    "\n",
    "   print(\"C\")\n",
    "\n",
    "else:\n",
    "\n",
    "   print(\"D\")"
   ]
  },
  {
   "cell_type": "code",
   "execution_count": 16,
   "id": "cad408f9-f5dc-42cd-b532-f2810095043f",
   "metadata": {},
   "outputs": [
    {
     "name": "stdout",
     "output_type": "stream",
     "text": [
      "B\n",
      "C\n"
     ]
    }
   ],
   "source": [
    "x = 5\n",
    "\n",
    "if x > 10:\n",
    "\n",
    "   print(\"A\")\n",
    "\n",
    "else:\n",
    "\n",
    "   print(\"B\")\n",
    "\n",
    "if x > 3:\n",
    "\n",
    "   print(\"C\")\n",
    "\n",
    "else:\n",
    "\n",
    "   print(\"D\")"
   ]
  },
  {
   "cell_type": "code",
   "execution_count": 19,
   "id": "6dd4ebdb-3b07-4ac7-a529-93ffac79e63f",
   "metadata": {},
   "outputs": [
    {
     "name": "stdout",
     "output_type": "stream",
     "text": [
      "B\n"
     ]
    }
   ],
   "source": [
    "x = 3\n",
    "\n",
    "if x > 5:\n",
    "\n",
    "   print(\"A\")\n",
    "\n",
    "else:\n",
    "\n",
    "    if x > 2:\n",
    "\n",
    "       print(\"B\")\n",
    "\n",
    "    else:\n",
    "\n",
    "       print(\"C\")"
   ]
  },
  {
   "cell_type": "code",
   "execution_count": 20,
   "id": "7545a7c0-3445-42f5-bf57-32d723cd6cf7",
   "metadata": {},
   "outputs": [
    {
     "name": "stdout",
     "output_type": "stream",
     "text": [
      "B\n"
     ]
    }
   ],
   "source": [
    "x = 8\n",
    "\n",
    "if x > 10:\n",
    "\n",
    "   print(\"A\")\n",
    "\n",
    "else:\n",
    "\n",
    "    if x > 5:\n",
    "\n",
    "       print(\"B\")\n",
    "\n",
    "    else:\n",
    "\n",
    "       print(\"C\")"
   ]
  },
  {
   "cell_type": "code",
   "execution_count": 21,
   "id": "7fc49d38-ed7b-430d-9991-91b4694223e0",
   "metadata": {},
   "outputs": [
    {
     "name": "stdout",
     "output_type": "stream",
     "text": [
      "A\n",
      "B\n"
     ]
    }
   ],
   "source": [
    "x = 10\n",
    "\n",
    "if x > 5:\n",
    "\n",
    "   print(\"A\")\n",
    "\n",
    "if x > 7:\n",
    "\n",
    "   print(\"B\")"
   ]
  },
  {
   "cell_type": "code",
   "execution_count": 22,
   "id": "66587dd6-9a6a-4b05-bd52-e92e45c315c8",
   "metadata": {},
   "outputs": [
    {
     "name": "stdout",
     "output_type": "stream",
     "text": [
      "B\n"
     ]
    }
   ],
   "source": [
    "x = 5\n",
    "\n",
    "if x > 7:\n",
    "\n",
    "   print(\"A\")\n",
    "\n",
    "if x > 4:\n",
    "\n",
    "   print(\"B\")"
   ]
  },
  {
   "cell_type": "code",
   "execution_count": 23,
   "id": "748a334c-47f0-4af4-9015-d00e93a5c1c5",
   "metadata": {},
   "outputs": [
    {
     "name": "stdout",
     "output_type": "stream",
     "text": [
      "A\n",
      "B\n"
     ]
    }
   ],
   "source": [
    "x = 3\n",
    "\n",
    "if x > 1:\n",
    "\n",
    "   print(\"A\")\n",
    "\n",
    "if x > 2:\n",
    "\n",
    "   print(\"B\")"
   ]
  },
  {
   "cell_type": "code",
   "execution_count": 24,
   "id": "40f83c1c-8a37-4b35-9982-f7870ac606b3",
   "metadata": {},
   "outputs": [
    {
     "name": "stdout",
     "output_type": "stream",
     "text": [
      "B\n"
     ]
    }
   ],
   "source": [
    "x = 1\n",
    "\n",
    "if x > 1:\n",
    "\n",
    "   print(\"A\")\n",
    "\n",
    "if x > 0:\n",
    "\n",
    "   print(\"B\")"
   ]
  },
  {
   "cell_type": "code",
   "execution_count": 25,
   "id": "1a00f521-19e2-42ff-a6a1-372724dfb47d",
   "metadata": {},
   "outputs": [
    {
     "name": "stdout",
     "output_type": "stream",
     "text": [
      "A\n"
     ]
    }
   ],
   "source": [
    "x = 7\n",
    "\n",
    "if x > 5:\n",
    "\n",
    "   print(\"A\")\n",
    "\n",
    "if x > 7:\n",
    "\n",
    "   print(\"B\")"
   ]
  },
  {
   "cell_type": "code",
   "execution_count": 26,
   "id": "593bcb73-517f-4790-9307-d3a56134b9d7",
   "metadata": {},
   "outputs": [
    {
     "name": "stdout",
     "output_type": "stream",
     "text": [
      "B\n"
     ]
    }
   ],
   "source": [
    "x = 5\n",
    "\n",
    "if x > 5:\n",
    "\n",
    "   print(\"A\")\n",
    "\n",
    "elif x > 3:\n",
    "\n",
    "   print(\"B\")\n",
    "\n",
    "else:\n",
    "\n",
    "   print(\"C\")"
   ]
  },
  {
   "cell_type": "code",
   "execution_count": 27,
   "id": "00aef34f-7845-480d-8992-8d398e63911b",
   "metadata": {},
   "outputs": [
    {
     "name": "stdout",
     "output_type": "stream",
     "text": [
      "B\n"
     ]
    }
   ],
   "source": [
    "x = 8\n",
    "\n",
    "if x > 10:\n",
    "\n",
    "   print(\"A\")\n",
    "\n",
    "elif x > 5:\n",
    "\n",
    "   print(\"B\")\n",
    "\n",
    "else:\n",
    "\n",
    "   print(\"C\")"
   ]
  },
  {
   "cell_type": "code",
   "execution_count": 28,
   "id": "3af1b190-a49a-4e4b-b8f0-12c704170a6f",
   "metadata": {},
   "outputs": [
    {
     "name": "stdout",
     "output_type": "stream",
     "text": [
      "B\n"
     ]
    }
   ],
   "source": [
    "x = 3\n",
    "\n",
    "if x > 5:\n",
    "\n",
    "   print(\"A\")\n",
    "\n",
    "elif x > 1:\n",
    "\n",
    "   print(\"B\")\n",
    "\n",
    "else:\n",
    "\n",
    "   print(\"C\")"
   ]
  },
  {
   "cell_type": "code",
   "execution_count": 29,
   "id": "fc616189-4751-45f0-89b8-e159c88f807d",
   "metadata": {},
   "outputs": [
    {
     "name": "stdout",
     "output_type": "stream",
     "text": [
      "B\n"
     ]
    }
   ],
   "source": [
    "x = 1\n",
    "\n",
    "if x > 5:\n",
    "\n",
    "   print(\"A\")\n",
    "\n",
    "elif x > 0:\n",
    "\n",
    "   print(\"B\")\n",
    "\n",
    "else:\n",
    "\n",
    "   print(\"C\")"
   ]
  },
  {
   "cell_type": "code",
   "execution_count": 32,
   "id": "8352172a-1a0f-4d4d-a78d-7cb0bb4072b2",
   "metadata": {},
   "outputs": [
    {
     "name": "stdout",
     "output_type": "stream",
     "text": [
      "A\n"
     ]
    }
   ],
   "source": [
    "x = 7\n",
    "\n",
    "if x > 5:\n",
    "\n",
    "   print(\"A\")\n",
    "\n",
    "else:\n",
    "\n",
    "    if x > 7:\n",
    "\n",
    "       print(\"B\")\n",
    "\n",
    "    else:\n",
    "\n",
    "       print(\"C\")"
   ]
  },
  {
   "cell_type": "code",
   "execution_count": 35,
   "id": "9844aa37-8b75-46fe-8c97-d0d3aaa0ac4e",
   "metadata": {},
   "outputs": [
    {
     "name": "stdout",
     "output_type": "stream",
     "text": [
      "B\n"
     ]
    }
   ],
   "source": [
    "x = 8\n",
    "\n",
    "if x > 10:\n",
    "\n",
    "   print(\"A\")\n",
    "\n",
    "else:\n",
    "\n",
    "    if x > 7:\n",
    "\n",
    "       print(\"B\")\n",
    "\n",
    "    else:\n",
    "\n",
    "       print(\"C\")"
   ]
  },
  {
   "cell_type": "code",
   "execution_count": 36,
   "id": "705d99d1-4b7e-4106-8511-097e250ea4a2",
   "metadata": {},
   "outputs": [
    {
     "name": "stdout",
     "output_type": "stream",
     "text": [
      "A\n",
      "B\n"
     ]
    }
   ],
   "source": [
    " x = 10\n",
    "\n",
    "if x > 5:\n",
    "\n",
    "   print(\"A\")\n",
    "\n",
    "if x > 7:\n",
    "\n",
    "   print(\"B\")\n",
    "\n",
    "else:\n",
    "\n",
    "   print(\"C\")"
   ]
  },
  {
   "cell_type": "code",
   "execution_count": 37,
   "id": "07d7ed19-7aaa-416a-b591-09b43a574815",
   "metadata": {},
   "outputs": [
    {
     "name": "stdout",
     "output_type": "stream",
     "text": [
      "B\n"
     ]
    }
   ],
   "source": [
    "x = 5\n",
    "\n",
    "if x > 7:\n",
    "\n",
    "   print(\"A\")\n",
    "\n",
    "if x > 4:\n",
    "\n",
    "   print(\"B\")\n",
    "\n",
    "else:\n",
    "\n",
    "   print(\"C\")"
   ]
  },
  {
   "cell_type": "code",
   "execution_count": 38,
   "id": "ab1db16d-45bb-41d6-aa7c-f69bafc9d942",
   "metadata": {},
   "outputs": [
    {
     "name": "stdout",
     "output_type": "stream",
     "text": [
      "A\n",
      "B\n"
     ]
    }
   ],
   "source": [
    "x = 3\n",
    "\n",
    "if x > 1:\n",
    "\n",
    "   print(\"A\")\n",
    "\n",
    "if x > 2:\n",
    "\n",
    "   print(\"B\")"
   ]
  },
  {
   "cell_type": "code",
   "execution_count": 39,
   "id": "4972b80d-be3c-4864-97d6-7bd22a4263b3",
   "metadata": {},
   "outputs": [
    {
     "name": "stdout",
     "output_type": "stream",
     "text": [
      "B\n"
     ]
    }
   ],
   "source": [
    "x = 1\n",
    "\n",
    "if x > 1:\n",
    "\n",
    "   print(\"A\")\n",
    "\n",
    "if x > 0:\n",
    "\n",
    "   print(\"B\")"
   ]
  },
  {
   "cell_type": "code",
   "execution_count": 40,
   "id": "e2cb70e9-d0fe-4175-b8e8-6be10e3eb4cf",
   "metadata": {},
   "outputs": [
    {
     "name": "stdout",
     "output_type": "stream",
     "text": [
      "A\n"
     ]
    }
   ],
   "source": [
    "x = 7\n",
    "\n",
    "if x > 5:\n",
    "\n",
    "   print(\"A\")\n",
    "\n",
    "if x > 7:\n",
    "\n",
    "   print(\"B\")"
   ]
  },
  {
   "cell_type": "code",
   "execution_count": 41,
   "id": "bf32de88-374e-417c-a70f-73587920a701",
   "metadata": {},
   "outputs": [
    {
     "name": "stdout",
     "output_type": "stream",
     "text": [
      "A\n"
     ]
    }
   ],
   "source": [
    "x = 5\n",
    "\n",
    "if x > 3:\n",
    "\n",
    "   print(\"A\")\n",
    "\n",
    "if x > 5:\n",
    "\n",
    "   print(\"B\")"
   ]
  },
  {
   "cell_type": "code",
   "execution_count": 44,
   "id": "fb4016ff-871b-41d8-986a-2b3197a955c7",
   "metadata": {},
   "outputs": [
    {
     "name": "stdout",
     "output_type": "stream",
     "text": [
      "B\n"
     ]
    }
   ],
   "source": [
    "x = 3\n",
    "\n",
    "if x > 5:\n",
    "\n",
    "   print(\"A\")\n",
    "\n",
    "else:\n",
    "\n",
    "    if x > 2:\n",
    "\n",
    "       print(\"B\")\n",
    "\n",
    "    else:\n",
    "\n",
    "       print(\"C\")"
   ]
  },
  {
   "cell_type": "code",
   "execution_count": 45,
   "id": "20b52b20-b45c-42cf-ac04-50cd8d3c1ef8",
   "metadata": {},
   "outputs": [
    {
     "name": "stdout",
     "output_type": "stream",
     "text": [
      "B\n"
     ]
    }
   ],
   "source": [
    "x = 8\n",
    "\n",
    "if x > 10:\n",
    "\n",
    "   print(\"A\")\n",
    "\n",
    "else:\n",
    "\n",
    "    if x > 7:\n",
    "\n",
    "       print(\"B\")\n",
    "\n",
    "    else:\n",
    "\n",
    "       print(\"C\")"
   ]
  },
  {
   "cell_type": "code",
   "execution_count": 46,
   "id": "46dd073d-120c-4d29-b853-61a1be64a85e",
   "metadata": {},
   "outputs": [
    {
     "name": "stdout",
     "output_type": "stream",
     "text": [
      "A\n",
      "B\n"
     ]
    }
   ],
   "source": [
    "x = 10\n",
    "\n",
    "if x > 5:\n",
    "\n",
    "   print(\"A\")\n",
    "\n",
    "if x > 7:\n",
    "\n",
    "   print(\"B\")\n",
    "\n",
    "else:\n",
    "\n",
    "   print(\"C\")"
   ]
  },
  {
   "cell_type": "code",
   "execution_count": 47,
   "id": "b88fd7be-8d25-43b2-8e4a-660b581cc244",
   "metadata": {},
   "outputs": [
    {
     "name": "stdout",
     "output_type": "stream",
     "text": [
      "B\n"
     ]
    }
   ],
   "source": [
    "x = 5\n",
    "\n",
    "if x > 7:\n",
    "\n",
    "   print(\"A\")\n",
    "\n",
    "if x > 4:\n",
    "\n",
    "   print(\"B\")\n",
    "\n",
    "else:\n",
    "\n",
    "   print(\"C\")"
   ]
  },
  {
   "cell_type": "code",
   "execution_count": 48,
   "id": "5139d7c0-cd4b-438d-a3b3-e6d7167339a9",
   "metadata": {},
   "outputs": [
    {
     "name": "stdout",
     "output_type": "stream",
     "text": [
      "A\n",
      "B\n"
     ]
    }
   ],
   "source": [
    "x = 3\n",
    "\n",
    "if x > 1:\n",
    "\n",
    "   print(\"A\")\n",
    "\n",
    "if x > 2:\n",
    "\n",
    "   print(\"B\")"
   ]
  },
  {
   "cell_type": "code",
   "execution_count": 49,
   "id": "25202cc8-3753-4a52-bd89-ff7e9f841fd8",
   "metadata": {},
   "outputs": [
    {
     "name": "stdout",
     "output_type": "stream",
     "text": [
      "B\n"
     ]
    }
   ],
   "source": [
    "x = 1\n",
    "\n",
    "if x > 1:\n",
    "\n",
    "   print(\"A\")\n",
    "\n",
    "if x > 0:\n",
    "\n",
    "   print(\"B\")"
   ]
  },
  {
   "cell_type": "code",
   "execution_count": 50,
   "id": "ab979142-cb69-45dc-8fe1-599fe741048f",
   "metadata": {},
   "outputs": [
    {
     "name": "stdout",
     "output_type": "stream",
     "text": [
      "A\n"
     ]
    }
   ],
   "source": [
    "x = 7\n",
    "\n",
    "if x > 5:\n",
    "\n",
    "   print(\"A\")\n",
    "\n",
    "if x > 7:\n",
    "\n",
    "   print(\"B\")"
   ]
  },
  {
   "cell_type": "code",
   "execution_count": 51,
   "id": "5de8d71e-3834-4dc9-a2fa-14eee5f7d654",
   "metadata": {},
   "outputs": [
    {
     "name": "stdout",
     "output_type": "stream",
     "text": [
      "A\n"
     ]
    }
   ],
   "source": [
    "x = 5\n",
    "\n",
    "if x > 3:\n",
    "\n",
    "   print(\"A\")\n",
    "\n",
    "if x > 5:\n",
    "\n",
    "   print(\"B\")"
   ]
  },
  {
   "cell_type": "markdown",
   "id": "e38c4090-7781-4322-8c04-30e2b65ad45a",
   "metadata": {},
   "source": [
    "1. Purpose of the `if` statement in Python - To execute a block of code conditionally.\n",
    "2. The correct syntax for an `if` statement is `if (condition):`, where `condition` is the expression to be evaluated.\n",
    "3. Which of the following is an `else` statement used for - To execute a block of code when the `if` condition is false.\n",
    "4. What is the purpose of the `elif` statement in Python? - To check another condition if the previous `if` condition is false.\n",
    "5. The value of `x` (5) is not greater than 10, so the first `if` condition is false. The second condition (`elif x > 3`) is true, so \"B\" is printed.\n",
    "6. What happens if none of the conditions in an `if`, `elif` chain are true? - The code is skipped and nothing happens.\n",
    "7. What is the purpose of the `else` statement in the following code? if condition: # code block else: # code block - To execute a code block when the main `if` condition is false.\n",
    "8.  The first `if` condition (`x < 5`) is false. The second `if` condition (`x == 7`) is true, so \"B\" is printed.\n",
    "9. The first condition (`x < 5`) is false. The second condition (`x > 10`) is True. So, the conditional loop will terminate here. Therefore, the `elif` block will be the last to be executed, and \"B\" is printed.\n",
    "10. In an `if` statement, how many `else` branches can there be? - Only one, but it can have multiple conditions (`elif`).\n",
    "11. What is the purpose of indentation in Python's `if` statements? - It's required for the code to work correctly. EXP -  In Python indentation makes the loop condition more readable if multiple lines of code needs to be executed followed by the if or else condition.\n",
    "12. Both conditions are true (`x > 10` and `x < 20`). Therefore, both \"A\" and \"B\" are printed.\n",
    "13. What is the purpose of using `elif` statements instead of multiple separate `if` statements? - `elif` statements make the code more efficient. EXP - Using `elif` statements instead of multiple separate `if` statements is more efficient because it avoids unnecessary condition checks once a true condition is found."
   ]
  },
  {
   "cell_type": "code",
   "execution_count": null,
   "id": "d3388480-20f9-4b22-8f58-7bb216ccdee7",
   "metadata": {},
   "outputs": [],
   "source": []
  }
 ],
 "metadata": {
  "kernelspec": {
   "display_name": "Python 3 (ipykernel)",
   "language": "python",
   "name": "python3"
  },
  "language_info": {
   "codemirror_mode": {
    "name": "ipython",
    "version": 3
   },
   "file_extension": ".py",
   "mimetype": "text/x-python",
   "name": "python",
   "nbconvert_exporter": "python",
   "pygments_lexer": "ipython3",
   "version": "3.10.8"
  }
 },
 "nbformat": 4,
 "nbformat_minor": 5
}
