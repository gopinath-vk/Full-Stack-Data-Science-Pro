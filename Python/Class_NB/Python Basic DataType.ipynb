{
 "cells": [
  {
   "cell_type": "markdown",
   "id": "c01fe960-c97d-4c19-9b20-cbd29563b37c",
   "metadata": {},
   "source": [
    "Heterogeneous data are any data with high variability of data types and formats"
   ]
  },
  {
   "cell_type": "code",
   "execution_count": 2,
   "id": "37d2dbb3-cda2-437e-8803-1c53cd76f184",
   "metadata": {},
   "outputs": [],
   "source": [
    "l = []"
   ]
  },
  {
   "cell_type": "code",
   "execution_count": 4,
   "id": "592efbae-e102-4a73-88c5-75e955956fdf",
   "metadata": {},
   "outputs": [
    {
     "data": {
      "text/plain": [
       "list"
      ]
     },
     "execution_count": 4,
     "metadata": {},
     "output_type": "execute_result"
    }
   ],
   "source": [
    "type(l) #Py will auto detect list if it has []"
   ]
  },
  {
   "cell_type": "code",
   "execution_count": 5,
   "id": "71ea1fbc-833d-4936-aee7-ce0c5fb63eef",
   "metadata": {},
   "outputs": [],
   "source": [
    "l1 = [1,2,3,4,\"Gopi\",\"nath\",3+6j,123.153,True]"
   ]
  },
  {
   "cell_type": "code",
   "execution_count": 7,
   "id": "498de3f9-bed2-46b6-9ae8-0e1ca6f9dafb",
   "metadata": {},
   "outputs": [
    {
     "data": {
      "text/plain": [
       "[1, 2, 3, 4, 'Gopi', 'nath', (3+6j), 123.153, True]"
      ]
     },
     "execution_count": 7,
     "metadata": {},
     "output_type": "execute_result"
    }
   ],
   "source": [
    "l1"
   ]
  },
  {
   "cell_type": "code",
   "execution_count": 8,
   "id": "b6c600de-0fae-442d-9a7a-164793386d4d",
   "metadata": {},
   "outputs": [],
   "source": [
    "l1 = [1,2,3,4,\"Gopi\",\"nath\",3+6j,123.153,True,[5,6,7]]"
   ]
  },
  {
   "cell_type": "code",
   "execution_count": 9,
   "id": "a8d5b065-a1ff-44dc-baa7-2484ce949a46",
   "metadata": {},
   "outputs": [
    {
     "data": {
      "text/plain": [
       "[1, 2, 3, 4, 'Gopi', 'nath', (3+6j), 123.153, True, [5, 6, 7]]"
      ]
     },
     "execution_count": 9,
     "metadata": {},
     "output_type": "execute_result"
    }
   ],
   "source": [
    "l1"
   ]
  },
  {
   "cell_type": "code",
   "execution_count": 10,
   "id": "64504367-6192-4145-a370-556bca207fa4",
   "metadata": {},
   "outputs": [
    {
     "data": {
      "text/plain": [
       "7"
      ]
     },
     "execution_count": 10,
     "metadata": {},
     "output_type": "execute_result"
    }
   ],
   "source": [
    "l1[-1][2]"
   ]
  },
  {
   "cell_type": "code",
   "execution_count": 12,
   "id": "9f396dca-53f9-459c-940e-157fd61d5e5e",
   "metadata": {},
   "outputs": [
    {
     "data": {
      "text/plain": [
       "[1, 2, 3]"
      ]
     },
     "execution_count": 12,
     "metadata": {},
     "output_type": "execute_result"
    }
   ],
   "source": [
    "l1[0:3]"
   ]
  },
  {
   "cell_type": "code",
   "execution_count": 13,
   "id": "5f5e36e1-a57a-4718-8b5f-d23db2b7037b",
   "metadata": {},
   "outputs": [],
   "source": [
    "l2 = [7,8,9,\"pwskills\"]"
   ]
  },
  {
   "cell_type": "code",
   "execution_count": 14,
   "id": "1b1928bc-64a9-44cb-85d9-725cb3159953",
   "metadata": {},
   "outputs": [
    {
     "data": {
      "text/plain": [
       "[1,\n",
       " 2,\n",
       " 3,\n",
       " 4,\n",
       " 'Gopi',\n",
       " 'nath',\n",
       " (3+6j),\n",
       " 123.153,\n",
       " True,\n",
       " [5, 6, 7],\n",
       " 7,\n",
       " 8,\n",
       " 9,\n",
       " 'pwskills']"
      ]
     },
     "execution_count": 14,
     "metadata": {},
     "output_type": "execute_result"
    }
   ],
   "source": [
    "l1+l2"
   ]
  },
  {
   "cell_type": "markdown",
   "id": "2a8801b6-c9eb-43c4-a72c-57fe8bc2b12b",
   "metadata": {},
   "source": [
    "List will store all types of datatype in it"
   ]
  },
  {
   "cell_type": "code",
   "execution_count": 15,
   "id": "cc1fcd04-f7ad-4c42-82d9-39a8bb5be722",
   "metadata": {},
   "outputs": [
    {
     "ename": "TypeError",
     "evalue": "can only concatenate list (not \"str\") to list",
     "output_type": "error",
     "traceback": [
      "\u001b[0;31m---------------------------------------------------------------------------\u001b[0m",
      "\u001b[0;31mTypeError\u001b[0m                                 Traceback (most recent call last)",
      "Cell \u001b[0;32mIn[15], line 1\u001b[0m\n\u001b[0;32m----> 1\u001b[0m \u001b[43ml2\u001b[49m\u001b[43m \u001b[49m\u001b[38;5;241;43m+\u001b[39;49m\u001b[43m \u001b[49m\u001b[38;5;124;43m\"\u001b[39;49m\u001b[38;5;124;43mGopi\u001b[39;49m\u001b[38;5;124;43m\"\u001b[39;49m\n",
      "\u001b[0;31mTypeError\u001b[0m: can only concatenate list (not \"str\") to list"
     ]
    }
   ],
   "source": [
    "l2 + \"Gopi\""
   ]
  },
  {
   "cell_type": "code",
   "execution_count": 17,
   "id": "55c2d76b-34b9-4fb9-85b2-aeded65ab6c4",
   "metadata": {},
   "outputs": [
    {
     "data": {
      "text/plain": [
       "['G', 'o', 'p', 'i']"
      ]
     },
     "execution_count": 17,
     "metadata": {},
     "output_type": "execute_result"
    }
   ],
   "source": [
    "list(\"Gopi\") # list() will break string like this"
   ]
  },
  {
   "cell_type": "code",
   "execution_count": 18,
   "id": "c4fee266-a720-43e9-ac62-37d4fa218b55",
   "metadata": {},
   "outputs": [
    {
     "data": {
      "text/plain": [
       "[7, 8, 9, 'pwskills', 7, 8, 9, 'pwskills']"
      ]
     },
     "execution_count": 18,
     "metadata": {},
     "output_type": "execute_result"
    }
   ],
   "source": [
    "l2*2"
   ]
  },
  {
   "cell_type": "code",
   "execution_count": 19,
   "id": "d6568660-c604-4b4f-ba04-22fbc1767a4f",
   "metadata": {},
   "outputs": [],
   "source": [
    "l2[0] = 300"
   ]
  },
  {
   "cell_type": "code",
   "execution_count": 20,
   "id": "c7b88e5d-668e-448e-b711-0327f9be57dd",
   "metadata": {},
   "outputs": [
    {
     "data": {
      "text/plain": [
       "[300, 8, 9, 'pwskills']"
      ]
     },
     "execution_count": 20,
     "metadata": {},
     "output_type": "execute_result"
    }
   ],
   "source": [
    "l2"
   ]
  },
  {
   "cell_type": "markdown",
   "id": "d4c8c72e-3ff8-455b-b266-50943ee8806e",
   "metadata": {},
   "source": [
    "LIST is mutable so can be change any data at any time by giving index"
   ]
  },
  {
   "cell_type": "code",
   "execution_count": 21,
   "id": "0f808328-cb5f-4667-84eb-4b5bfdb69606",
   "metadata": {},
   "outputs": [],
   "source": [
    "t = (1,2,3,4,\"Gopi\",\"nath\",1+4j,False)"
   ]
  },
  {
   "cell_type": "code",
   "execution_count": 22,
   "id": "2d434974-5e4a-4dbb-b553-7645c90ef90d",
   "metadata": {},
   "outputs": [
    {
     "data": {
      "text/plain": [
       "(1, 2, 3, 4, 'Gopi', 'nath', (1+4j), False)"
      ]
     },
     "execution_count": 22,
     "metadata": {},
     "output_type": "execute_result"
    }
   ],
   "source": [
    "t"
   ]
  },
  {
   "cell_type": "markdown",
   "id": "f659c691-6d2a-4a72-a194-adb72f06c948",
   "metadata": {},
   "source": [
    "TUPLE is another kind of LIST "
   ]
  },
  {
   "cell_type": "code",
   "execution_count": 23,
   "id": "18d94683-cd1d-48a5-a694-97adc0138330",
   "metadata": {},
   "outputs": [
    {
     "data": {
      "text/plain": [
       "tuple"
      ]
     },
     "execution_count": 23,
     "metadata": {},
     "output_type": "execute_result"
    }
   ],
   "source": [
    "type(t)"
   ]
  },
  {
   "cell_type": "code",
   "execution_count": 24,
   "id": "900706e0-ef7c-47c5-9601-a000ccf66447",
   "metadata": {},
   "outputs": [
    {
     "data": {
      "text/plain": [
       "1"
      ]
     },
     "execution_count": 24,
     "metadata": {},
     "output_type": "execute_result"
    }
   ],
   "source": [
    "t[0]"
   ]
  },
  {
   "cell_type": "code",
   "execution_count": 25,
   "id": "3170f2dd-850c-4c0c-a2ff-880d71f86621",
   "metadata": {},
   "outputs": [
    {
     "data": {
      "text/plain": [
       "False"
      ]
     },
     "execution_count": 25,
     "metadata": {},
     "output_type": "execute_result"
    }
   ],
   "source": [
    "t[-1]"
   ]
  },
  {
   "cell_type": "code",
   "execution_count": 26,
   "id": "911da07e-b91e-47fc-8d62-610296ae1c39",
   "metadata": {},
   "outputs": [
    {
     "data": {
      "text/plain": [
       "(False, (1+4j), 'nath', 'Gopi', 4, 3, 2, 1)"
      ]
     },
     "execution_count": 26,
     "metadata": {},
     "output_type": "execute_result"
    }
   ],
   "source": [
    "t[::-1]"
   ]
  },
  {
   "cell_type": "code",
   "execution_count": 27,
   "id": "4ece144b-88d7-4c4e-b641-9bb1529729eb",
   "metadata": {},
   "outputs": [
    {
     "data": {
      "text/plain": [
       "(1, 2, 3, 4, 'Gopi', 'nath', (1+4j), False)"
      ]
     },
     "execution_count": 27,
     "metadata": {},
     "output_type": "execute_result"
    }
   ],
   "source": [
    "t"
   ]
  },
  {
   "cell_type": "code",
   "execution_count": null,
   "id": "78d4779b-ed52-4e11-ab96-0ea908e720d4",
   "metadata": {},
   "outputs": [],
   "source": []
  },
  {
   "cell_type": "code",
   "execution_count": 30,
   "id": "d5c2c25b-c828-4879-9f06-d0ad1555c04e",
   "metadata": {},
   "outputs": [
    {
     "ename": "TypeError",
     "evalue": "'tuple' object does not support item assignment",
     "output_type": "error",
     "traceback": [
      "\u001b[0;31m---------------------------------------------------------------------------\u001b[0m",
      "\u001b[0;31mTypeError\u001b[0m                                 Traceback (most recent call last)",
      "Cell \u001b[0;32mIn[30], line 1\u001b[0m\n\u001b[0;32m----> 1\u001b[0m \u001b[43mt\u001b[49m\u001b[43m[\u001b[49m\u001b[38;5;241;43m0\u001b[39;49m\u001b[43m]\u001b[49m \u001b[38;5;241m=\u001b[39m \u001b[38;5;241m2\u001b[39m  \n",
      "\u001b[0;31mTypeError\u001b[0m: 'tuple' object does not support item assignment"
     ]
    }
   ],
   "source": [
    "t[0] = 2  "
   ]
  },
  {
   "cell_type": "code",
   "execution_count": 31,
   "id": "58d4acff-78c6-4daa-9788-4d81232b1b09",
   "metadata": {},
   "outputs": [],
   "source": [
    "t1 = (7,8,9)"
   ]
  },
  {
   "cell_type": "code",
   "execution_count": 32,
   "id": "436a47b8-fb9c-492f-a948-5459c68155cd",
   "metadata": {},
   "outputs": [
    {
     "data": {
      "text/plain": [
       "(7, 8, 9)"
      ]
     },
     "execution_count": 32,
     "metadata": {},
     "output_type": "execute_result"
    }
   ],
   "source": [
    "t1"
   ]
  },
  {
   "cell_type": "code",
   "execution_count": 33,
   "id": "2e931b87-0340-490e-b212-59d9a337b177",
   "metadata": {},
   "outputs": [
    {
     "data": {
      "text/plain": [
       "(1, 2, 3, 4, 'Gopi', 'nath', (1+4j), False, 7, 8, 9)"
      ]
     },
     "execution_count": 33,
     "metadata": {},
     "output_type": "execute_result"
    }
   ],
   "source": [
    "t+t1"
   ]
  },
  {
   "cell_type": "code",
   "execution_count": 34,
   "id": "18aefc6f-8c7f-444a-b78f-23b8d49eb120",
   "metadata": {},
   "outputs": [
    {
     "data": {
      "text/plain": [
       "[1, 2, 3, 4, 'Gopi', 'nath', (1+4j), False]"
      ]
     },
     "execution_count": 34,
     "metadata": {},
     "output_type": "execute_result"
    }
   ],
   "source": [
    "list(t)"
   ]
  },
  {
   "cell_type": "code",
   "execution_count": 35,
   "id": "40baa90d-2608-499c-8a52-94e361e0c114",
   "metadata": {},
   "outputs": [
    {
     "data": {
      "text/plain": [
       "(300, 8, 9, 'pwskills')"
      ]
     },
     "execution_count": 35,
     "metadata": {},
     "output_type": "execute_result"
    }
   ],
   "source": [
    "tuple(l2)"
   ]
  },
  {
   "cell_type": "markdown",
   "id": "dd95bfae-caae-40a8-98b2-6ec62db3cba1",
   "metadata": {},
   "source": [
    "1. In TUPLE is immutable entity can't mutate. This will not allow another person to update the our data\n",
    "2. TUPLE is similar to LIST we can perform all operations"
   ]
  },
  {
   "cell_type": "code",
   "execution_count": 36,
   "id": "04eee710-f97b-4a41-9586-0f89dc528a3b",
   "metadata": {},
   "outputs": [
    {
     "data": {
      "text/plain": [
       "4"
      ]
     },
     "execution_count": 36,
     "metadata": {},
     "output_type": "execute_result"
    }
   ],
   "source": [
    "len(l2)"
   ]
  },
  {
   "cell_type": "code",
   "execution_count": 37,
   "id": "d8f215aa-01c0-4233-8fa4-c2e56cb68ff4",
   "metadata": {},
   "outputs": [
    {
     "data": {
      "text/plain": [
       "8"
      ]
     },
     "execution_count": 37,
     "metadata": {},
     "output_type": "execute_result"
    }
   ],
   "source": [
    "len(t)"
   ]
  },
  {
   "cell_type": "code",
   "execution_count": 38,
   "id": "105e4908-64ab-4182-b987-a1f80971b56a",
   "metadata": {},
   "outputs": [],
   "source": [
    "s = {}"
   ]
  },
  {
   "cell_type": "code",
   "execution_count": 46,
   "id": "bd79138c-ebf0-44bf-85d4-320dd9f013c3",
   "metadata": {},
   "outputs": [
    {
     "data": {
      "text/plain": [
       "dict"
      ]
     },
     "execution_count": 46,
     "metadata": {},
     "output_type": "execute_result"
    }
   ],
   "source": [
    "type(s) #without data {} will result type as DICT"
   ]
  },
  {
   "cell_type": "code",
   "execution_count": 47,
   "id": "7f0b4186-f9d3-4583-aed0-6c6610d6883f",
   "metadata": {},
   "outputs": [],
   "source": [
    "s1 = {1,2,3,4,4}"
   ]
  },
  {
   "cell_type": "code",
   "execution_count": 48,
   "id": "7ab70f03-cbbe-41f7-9973-94d8b36bbaa3",
   "metadata": {},
   "outputs": [
    {
     "data": {
      "text/plain": [
       "set"
      ]
     },
     "execution_count": 48,
     "metadata": {},
     "output_type": "execute_result"
    }
   ],
   "source": [
    "type(s1) # with data {} will result as SET"
   ]
  },
  {
   "cell_type": "code",
   "execution_count": 49,
   "id": "de9de91d-682b-4f8f-ad22-0ba825f55389",
   "metadata": {},
   "outputs": [
    {
     "data": {
      "text/plain": [
       "{1, 2, 3, 4}"
      ]
     },
     "execution_count": 49,
     "metadata": {},
     "output_type": "execute_result"
    }
   ],
   "source": [
    "s1 "
   ]
  },
  {
   "cell_type": "markdown",
   "id": "b175c135-80f9-4977-8ef9-ea3bc57d0e75",
   "metadata": {},
   "source": [
    "Set is collection we can save anything in it but it will use {} and remove duplicate and will keep only unique"
   ]
  },
  {
   "cell_type": "code",
   "execution_count": 52,
   "id": "a61cfdbe-31cf-44db-aee9-e9a4aedcfd96",
   "metadata": {},
   "outputs": [],
   "source": [
    "s2 = {\"gopi\",\"Gopi\",\"gopi\",1,2,3,3,4,5,6,6}"
   ]
  },
  {
   "cell_type": "code",
   "execution_count": 53,
   "id": "b710a570-2003-479a-9743-619b834d0395",
   "metadata": {},
   "outputs": [
    {
     "data": {
      "text/plain": [
       "{1, 2, 3, 4, 5, 6, 'Gopi', 'gopi'}"
      ]
     },
     "execution_count": 53,
     "metadata": {},
     "output_type": "execute_result"
    }
   ],
   "source": [
    "s2"
   ]
  },
  {
   "cell_type": "markdown",
   "id": "703af96f-4036-437e-9b07-e157d896d907",
   "metadata": {},
   "source": [
    "1. Python is a case sensitive that is why Gopi and gopi are here\n",
    "2. SET is collection of entity which is keep only unique"
   ]
  },
  {
   "cell_type": "code",
   "execution_count": 54,
   "id": "6f3f4ec8-6b59-4441-9b25-3b83b51e2471",
   "metadata": {},
   "outputs": [
    {
     "data": {
      "text/plain": [
       "[1, 2, 3, 4, 5, 6, 'Gopi', 'gopi']"
      ]
     },
     "execution_count": 54,
     "metadata": {},
     "output_type": "execute_result"
    }
   ],
   "source": [
    "list(s2)"
   ]
  },
  {
   "cell_type": "code",
   "execution_count": 56,
   "id": "4a4e7dd5-6247-49fa-a9d7-3801a71c6e61",
   "metadata": {},
   "outputs": [
    {
     "ename": "TypeError",
     "evalue": "unhashable type: 'list'",
     "output_type": "error",
     "traceback": [
      "\u001b[0;31m---------------------------------------------------------------------------\u001b[0m",
      "\u001b[0;31mTypeError\u001b[0m                                 Traceback (most recent call last)",
      "Cell \u001b[0;32mIn[56], line 1\u001b[0m\n\u001b[0;32m----> 1\u001b[0m \u001b[38;5;28;43mset\u001b[39;49m\u001b[43m(\u001b[49m\u001b[43ml1\u001b[49m\u001b[43m)\u001b[49m \u001b[38;5;66;03m#list to set - should not have nested list\u001b[39;00m\n",
      "\u001b[0;31mTypeError\u001b[0m: unhashable type: 'list'"
     ]
    }
   ],
   "source": [
    "set(l1) #list to set - should not have nested list"
   ]
  },
  {
   "cell_type": "code",
   "execution_count": 57,
   "id": "f81afacf-4519-4598-aee1-8087f8a7ca53",
   "metadata": {},
   "outputs": [
    {
     "data": {
      "text/plain": [
       "{300, 8, 9, 'pwskills'}"
      ]
     },
     "execution_count": 57,
     "metadata": {},
     "output_type": "execute_result"
    }
   ],
   "source": [
    "set(l2)"
   ]
  },
  {
   "cell_type": "code",
   "execution_count": 58,
   "id": "0d5f2605-984b-4508-b055-f6784fdd2cc2",
   "metadata": {},
   "outputs": [
    {
     "data": {
      "text/plain": [
       "(1, 2, 3, 4, 5, 6, 'Gopi', 'gopi')"
      ]
     },
     "execution_count": 58,
     "metadata": {},
     "output_type": "execute_result"
    }
   ],
   "source": [
    "tuple(s2)"
   ]
  },
  {
   "cell_type": "code",
   "execution_count": 59,
   "id": "d4c354c9-78b5-4a60-922c-52bb3bb75da8",
   "metadata": {},
   "outputs": [
    {
     "ename": "TypeError",
     "evalue": "'set' object is not subscriptable",
     "output_type": "error",
     "traceback": [
      "\u001b[0;31m---------------------------------------------------------------------------\u001b[0m",
      "\u001b[0;31mTypeError\u001b[0m                                 Traceback (most recent call last)",
      "Cell \u001b[0;32mIn[59], line 1\u001b[0m\n\u001b[0;32m----> 1\u001b[0m \u001b[43ms2\u001b[49m\u001b[43m[\u001b[49m\u001b[38;5;241;43m0\u001b[39;49m\u001b[43m]\u001b[49m\n",
      "\u001b[0;31mTypeError\u001b[0m: 'set' object is not subscriptable"
     ]
    }
   ],
   "source": [
    "s2[0] #original data of set is different index"
   ]
  },
  {
   "cell_type": "markdown",
   "id": "677fa809-ba25-4f68-acf8-71b49871e8f7",
   "metadata": {},
   "source": [
    "1. SET will not support INDEX and SLICE\n",
    "2. Since we can't access SET data so there is no concept of Immute and mute for SET(ie - Immutable)\n",
    "3. SET will not sort the data"
   ]
  },
  {
   "cell_type": "code",
   "execution_count": 60,
   "id": "9f55c205-4446-45c7-a4d7-c2d454a50f38",
   "metadata": {},
   "outputs": [],
   "source": [
    "s3 = {345,456,23,12,34,56,78,12,12,34,56,\"gopi\",234.5}"
   ]
  },
  {
   "cell_type": "code",
   "execution_count": 61,
   "id": "2454e627-a141-48b5-997b-b81e169cfe80",
   "metadata": {},
   "outputs": [
    {
     "data": {
      "text/plain": [
       "{12, 23, 234.5, 34, 345, 456, 56, 78, 'gopi'}"
      ]
     },
     "execution_count": 61,
     "metadata": {},
     "output_type": "execute_result"
    }
   ],
   "source": [
    "s3"
   ]
  },
  {
   "cell_type": "code",
   "execution_count": 62,
   "id": "929eacb1-c336-49a3-bf5a-eb23b3bc47b8",
   "metadata": {},
   "outputs": [],
   "source": [
    "d1 = {'Name':\"Gopinath\",'Sub':[\"Data Science\", \"Data Eng\", \"Data Analyst\"], 'No':4}"
   ]
  },
  {
   "cell_type": "code",
   "execution_count": 63,
   "id": "d50781d4-f55e-42cb-a246-3387aaf46757",
   "metadata": {},
   "outputs": [
    {
     "data": {
      "text/plain": [
       "{'Name': 'Gopinath',\n",
       " 'Sub': ['Data Science', 'Data Eng', 'Data Analyst'],\n",
       " 'No': 4}"
      ]
     },
     "execution_count": 63,
     "metadata": {},
     "output_type": "execute_result"
    }
   ],
   "source": [
    "d1"
   ]
  },
  {
   "cell_type": "code",
   "execution_count": 64,
   "id": "dbf41f09-df95-4dcf-8dd8-31c57ee609e5",
   "metadata": {},
   "outputs": [],
   "source": [
    "d2 = {'Name':\"Gopi\",'Name':\"PWSkills\"}"
   ]
  },
  {
   "cell_type": "code",
   "execution_count": 66,
   "id": "306baf6c-d3a5-4fb3-bbff-4349145ebf9a",
   "metadata": {},
   "outputs": [
    {
     "data": {
      "text/plain": [
       "{'Name': 'PWSkills'}"
      ]
     },
     "execution_count": 66,
     "metadata": {},
     "output_type": "execute_result"
    }
   ],
   "source": [
    "d2 "
   ]
  },
  {
   "cell_type": "markdown",
   "id": "dbcb4f04-e2a7-4e2f-a5f0-b16701051de3",
   "metadata": {},
   "source": [
    "1. key are behave like named index and index can't multiple so latest value will be taken for repetitive index\n",
    "2. KEY should UNIQUE"
   ]
  },
  {
   "cell_type": "code",
   "execution_count": 67,
   "id": "f2490717-a871-433f-900d-01bc9cdcb6b7",
   "metadata": {},
   "outputs": [],
   "source": [
    "d3 = {123:'Gopi'}"
   ]
  },
  {
   "cell_type": "code",
   "execution_count": 68,
   "id": "813bd6d0-06cd-4f65-86a0-e7d190f4ef37",
   "metadata": {},
   "outputs": [
    {
     "data": {
      "text/plain": [
       "{123: 'Gopi'}"
      ]
     },
     "execution_count": 68,
     "metadata": {},
     "output_type": "execute_result"
    }
   ],
   "source": [
    "d3"
   ]
  },
  {
   "cell_type": "code",
   "execution_count": 69,
   "id": "e6d5a957-b8be-44d1-a2bc-d36cd036f1a2",
   "metadata": {},
   "outputs": [
    {
     "ename": "TypeError",
     "evalue": "unhashable type: 'list'",
     "output_type": "error",
     "traceback": [
      "\u001b[0;31m---------------------------------------------------------------------------\u001b[0m",
      "\u001b[0;31mTypeError\u001b[0m                                 Traceback (most recent call last)",
      "Cell \u001b[0;32mIn[69], line 1\u001b[0m\n\u001b[0;32m----> 1\u001b[0m dl\u001b[38;5;241m=\u001b[39m{[\u001b[38;5;241m1\u001b[39m,\u001b[38;5;241m2\u001b[39m]:\u001b[38;5;124m'\u001b[39m\u001b[38;5;124mgopi\u001b[39m\u001b[38;5;124m'\u001b[39m}\n",
      "\u001b[0;31mTypeError\u001b[0m: unhashable type: 'list'"
     ]
    }
   ],
   "source": [
    "dl={[1,2]:'gopi'}"
   ]
  },
  {
   "cell_type": "code",
   "execution_count": 72,
   "id": "37a00175-7eb0-4e34-8725-7404be4ce259",
   "metadata": {},
   "outputs": [
    {
     "ename": "TypeError",
     "evalue": "unhashable type: 'set'",
     "output_type": "error",
     "traceback": [
      "\u001b[0;31m---------------------------------------------------------------------------\u001b[0m",
      "\u001b[0;31mTypeError\u001b[0m                                 Traceback (most recent call last)",
      "Cell \u001b[0;32mIn[72], line 1\u001b[0m\n\u001b[0;32m----> 1\u001b[0m ds\u001b[38;5;241m=\u001b[39m{{\u001b[38;5;241m1\u001b[39m,\u001b[38;5;241m2\u001b[39m}:\u001b[38;5;124m'\u001b[39m\u001b[38;5;124mgopi\u001b[39m\u001b[38;5;124m'\u001b[39m}\n",
      "\u001b[0;31mTypeError\u001b[0m: unhashable type: 'set'"
     ]
    }
   ],
   "source": [
    "ds={{1,2}:'gopi'}"
   ]
  },
  {
   "cell_type": "code",
   "execution_count": 73,
   "id": "7ed103b1-d75d-4c0d-b6cc-26e2f66afcc2",
   "metadata": {},
   "outputs": [],
   "source": [
    "dt={(1,2):'gopi'}"
   ]
  },
  {
   "cell_type": "code",
   "execution_count": 74,
   "id": "d6af363b-34d6-4a32-a353-1d9928723b03",
   "metadata": {},
   "outputs": [
    {
     "data": {
      "text/plain": [
       "{(1, 2): 'gopi'}"
      ]
     },
     "execution_count": 74,
     "metadata": {},
     "output_type": "execute_result"
    }
   ],
   "source": [
    "dt"
   ]
  },
  {
   "cell_type": "code",
   "execution_count": 75,
   "id": "2901d335-b22f-49ca-abf3-8ee30549e832",
   "metadata": {},
   "outputs": [
    {
     "ename": "SyntaxError",
     "evalue": "invalid syntax (3240478232.py, line 1)",
     "output_type": "error",
     "traceback": [
      "\u001b[0;36m  Cell \u001b[0;32mIn[75], line 1\u001b[0;36m\u001b[0m\n\u001b[0;31m    ds = {%asd:123}\u001b[0m\n\u001b[0m          ^\u001b[0m\n\u001b[0;31mSyntaxError\u001b[0m\u001b[0;31m:\u001b[0m invalid syntax\n"
     ]
    }
   ],
   "source": [
    "ds = {%asd:123}"
   ]
  },
  {
   "cell_type": "code",
   "execution_count": 76,
   "id": "75e43f93-572d-4d38-bf24-32a16a05238a",
   "metadata": {},
   "outputs": [],
   "source": [
    "ds1 = {'%asd':12}"
   ]
  },
  {
   "cell_type": "code",
   "execution_count": 77,
   "id": "fe0ab84f-12ba-494c-b442-8973ffd86036",
   "metadata": {},
   "outputs": [
    {
     "data": {
      "text/plain": [
       "{'%asd': 12}"
      ]
     },
     "execution_count": 77,
     "metadata": {},
     "output_type": "execute_result"
    }
   ],
   "source": [
    "ds1"
   ]
  },
  {
   "cell_type": "markdown",
   "id": "75c046bc-dad3-4eea-8cb3-f23fc6139e72",
   "metadata": {},
   "source": [
    "1. LIST and SET can't use as INDEX\n",
    "2. But TUPLE can be used as INDEX just INT and STR\n",
    "3. Special char will not work as INDEX but can used them as string"
   ]
  },
  {
   "cell_type": "code",
   "execution_count": 89,
   "id": "969540aa-8da8-4cae-a16d-4b698b661328",
   "metadata": {},
   "outputs": [],
   "source": [
    "d4 = {'Course':['DSA','JAVA','WebDEV','Blockchain'],\n",
    "      'Mentor':('Sudh','Krish','Viswa'),\n",
    "      'Price':{1000,25,3500,4500,3500},\n",
    "      'Duration':1,'Access Year':1,\n",
    "     'Syllabus':{'Python':['Core Python', 'OOPS','Pandas','MongoDB'],\n",
    "                 'ML':{'Supervised','UnSupervised','Semi-Supervised'}}}"
   ]
  },
  {
   "cell_type": "code",
   "execution_count": 90,
   "id": "9deaada5-62d0-4cb7-a0da-6e09b2ccaaec",
   "metadata": {},
   "outputs": [
    {
     "data": {
      "text/plain": [
       "{'Course': ['DSA', 'JAVA', 'WebDEV', 'Blockchain'],\n",
       " 'Mentor': ('Sudh', 'Krish', 'Viswa'),\n",
       " 'Price': {25, 1000, 3500, 4500},\n",
       " 'Duration': 1,\n",
       " 'Access Year': 1,\n",
       " 'Syllabus': {'Python': ['Core Python', 'OOPS', 'Pandas', 'MongoDB'],\n",
       "  'ML': {'Semi-Supervised', 'Supervised', 'UnSupervised'}}}"
      ]
     },
     "execution_count": 90,
     "metadata": {},
     "output_type": "execute_result"
    }
   ],
   "source": [
    "d4"
   ]
  },
  {
   "cell_type": "code",
   "execution_count": 91,
   "id": "af979c9f-37dd-44c5-87ba-5e3680c1f5b5",
   "metadata": {},
   "outputs": [
    {
     "data": {
      "text/plain": [
       "['DSA', 'JAVA', 'WebDEV', 'Blockchain']"
      ]
     },
     "execution_count": 91,
     "metadata": {},
     "output_type": "execute_result"
    }
   ],
   "source": [
    "d4['Course']"
   ]
  },
  {
   "cell_type": "code",
   "execution_count": 92,
   "id": "f338de18-98d7-4ff4-853e-56af900d5a0b",
   "metadata": {},
   "outputs": [
    {
     "data": {
      "text/plain": [
       "('Sudh', 'Krish', 'Viswa')"
      ]
     },
     "execution_count": 92,
     "metadata": {},
     "output_type": "execute_result"
    }
   ],
   "source": [
    "d4['Mentor']"
   ]
  },
  {
   "cell_type": "code",
   "execution_count": 93,
   "id": "d2d29868-c6c1-446e-a6c4-b72c65bcbe46",
   "metadata": {},
   "outputs": [
    {
     "data": {
      "text/plain": [
       "{'Name': 'PWSkills'}"
      ]
     },
     "execution_count": 93,
     "metadata": {},
     "output_type": "execute_result"
    }
   ],
   "source": [
    "d2"
   ]
  },
  {
   "cell_type": "code",
   "execution_count": 94,
   "id": "4d115990-24a5-4e09-80cd-3b4df74cea83",
   "metadata": {},
   "outputs": [],
   "source": [
    "d2['ph NO']=123456"
   ]
  },
  {
   "cell_type": "code",
   "execution_count": 95,
   "id": "509adaaa-ff0d-420f-a290-8ed693fe9f9c",
   "metadata": {},
   "outputs": [
    {
     "data": {
      "text/plain": [
       "{'Name': 'PWSkills', 'ph NO': 123456}"
      ]
     },
     "execution_count": 95,
     "metadata": {},
     "output_type": "execute_result"
    }
   ],
   "source": [
    "d2"
   ]
  },
  {
   "cell_type": "code",
   "execution_count": 96,
   "id": "aa0759dc-a99b-4b15-9065-9229c3615315",
   "metadata": {},
   "outputs": [],
   "source": [
    "d2['Name']='Gopi'"
   ]
  },
  {
   "cell_type": "code",
   "execution_count": 97,
   "id": "3078d637-3bce-4f74-a68f-3ff361c83818",
   "metadata": {},
   "outputs": [
    {
     "data": {
      "text/plain": [
       "{'Name': 'Gopi', 'ph NO': 123456}"
      ]
     },
     "execution_count": 97,
     "metadata": {},
     "output_type": "execute_result"
    }
   ],
   "source": [
    "d2"
   ]
  },
  {
   "cell_type": "markdown",
   "id": "283a0daa-ab41-4663-9e88-b7dfe91d5b9e",
   "metadata": {},
   "source": [
    "1. DICT is mutable\n",
    "2. DICT can have LIST, SET & TUBLE as values\n",
    "3. Also within DICT we can have DICT "
   ]
  },
  {
   "cell_type": "code",
   "execution_count": 98,
   "id": "95355c34-7799-4d83-8ee9-4a3a5200cf13",
   "metadata": {},
   "outputs": [],
   "source": [
    "s1='PWSkills'"
   ]
  },
  {
   "cell_type": "code",
   "execution_count": 101,
   "id": "d43d7eba-7090-4200-a98a-ae5acd65027f",
   "metadata": {},
   "outputs": [
    {
     "data": {
      "text/plain": [
       "2"
      ]
     },
     "execution_count": 101,
     "metadata": {},
     "output_type": "execute_result"
    }
   ],
   "source": [
    "s1.count('l')"
   ]
  },
  {
   "cell_type": "code",
   "execution_count": 103,
   "id": "d1eacff4-b9da-4791-85fe-df30ebaff1d1",
   "metadata": {},
   "outputs": [
    {
     "data": {
      "text/plain": [
       "7"
      ]
     },
     "execution_count": 103,
     "metadata": {},
     "output_type": "execute_result"
    }
   ],
   "source": [
    "s1.find('s') #index of first occurrence"
   ]
  },
  {
   "cell_type": "code",
   "execution_count": 106,
   "id": "6db95dc4-b076-4644-9b60-785805c6ed91",
   "metadata": {},
   "outputs": [
    {
     "data": {
      "text/plain": [
       "0"
      ]
     },
     "execution_count": 106,
     "metadata": {},
     "output_type": "execute_result"
    }
   ],
   "source": [
    "s1.index('P') #similar to find"
   ]
  },
  {
   "cell_type": "code",
   "execution_count": 110,
   "id": "b87711f8-84e6-44ab-91dd-459372779429",
   "metadata": {},
   "outputs": [
    {
     "data": {
      "text/plain": [
       "-1"
      ]
     },
     "execution_count": 110,
     "metadata": {},
     "output_type": "execute_result"
    }
   ],
   "source": [
    "s1.find('z') # if the char is not available it will give -1"
   ]
  },
  {
   "cell_type": "code",
   "execution_count": 109,
   "id": "cfd58641-9f45-466b-9656-07e0b6a6e4fb",
   "metadata": {},
   "outputs": [
    {
     "ename": "ValueError",
     "evalue": "substring not found",
     "output_type": "error",
     "traceback": [
      "\u001b[0;31m---------------------------------------------------------------------------\u001b[0m",
      "\u001b[0;31mValueError\u001b[0m                                Traceback (most recent call last)",
      "Cell \u001b[0;32mIn[109], line 1\u001b[0m\n\u001b[0;32m----> 1\u001b[0m \u001b[43ms1\u001b[49m\u001b[38;5;241;43m.\u001b[39;49m\u001b[43mindex\u001b[49m\u001b[43m(\u001b[49m\u001b[38;5;124;43m'\u001b[39;49m\u001b[38;5;124;43mz\u001b[39;49m\u001b[38;5;124;43m'\u001b[39;49m\u001b[43m)\u001b[49m \u001b[38;5;66;03m# if the char is not available it will throw an error\u001b[39;00m\n",
      "\u001b[0;31mValueError\u001b[0m: substring not found"
     ]
    }
   ],
   "source": [
    "s1.index('z') # if the char is not available it will throw an error"
   ]
  },
  {
   "cell_type": "code",
   "execution_count": 111,
   "id": "4c31d64d-63ed-48e1-b35f-6ba49d90fb1b",
   "metadata": {},
   "outputs": [
    {
     "data": {
      "text/plain": [
       "'PWSKILLS'"
      ]
     },
     "execution_count": 111,
     "metadata": {},
     "output_type": "execute_result"
    }
   ],
   "source": [
    "s1.upper()"
   ]
  },
  {
   "cell_type": "code",
   "execution_count": 112,
   "id": "a1f8473b-83ce-4cd6-982a-44eb875f5efa",
   "metadata": {},
   "outputs": [
    {
     "data": {
      "text/plain": [
       "'PWSkills'"
      ]
     },
     "execution_count": 112,
     "metadata": {},
     "output_type": "execute_result"
    }
   ],
   "source": [
    "s1"
   ]
  },
  {
   "cell_type": "code",
   "execution_count": 113,
   "id": "7eee949b-126c-4ca0-8ba7-990c05928406",
   "metadata": {},
   "outputs": [
    {
     "data": {
      "text/plain": [
       "'pwskills'"
      ]
     },
     "execution_count": 113,
     "metadata": {},
     "output_type": "execute_result"
    }
   ],
   "source": [
    "s1.lower()"
   ]
  },
  {
   "cell_type": "code",
   "execution_count": 115,
   "id": "240984eb-804e-4f62-bab6-9390edc23545",
   "metadata": {},
   "outputs": [
    {
     "data": {
      "text/plain": [
       "'Pwskills'"
      ]
     },
     "execution_count": 115,
     "metadata": {},
     "output_type": "execute_result"
    }
   ],
   "source": [
    "s1.title()"
   ]
  },
  {
   "cell_type": "code",
   "execution_count": 116,
   "id": "7ad03a76-8b48-4ff2-bef6-54d1374de4b4",
   "metadata": {},
   "outputs": [],
   "source": [
    "s2 = 'My name is gopinath'"
   ]
  },
  {
   "cell_type": "code",
   "execution_count": 117,
   "id": "372a13d8-2ba6-41ff-ac6c-d77bca490610",
   "metadata": {},
   "outputs": [
    {
     "data": {
      "text/plain": [
       "'My name is gopinath'"
      ]
     },
     "execution_count": 117,
     "metadata": {},
     "output_type": "execute_result"
    }
   ],
   "source": [
    "s2"
   ]
  },
  {
   "cell_type": "code",
   "execution_count": 118,
   "id": "3a2b1d22-a222-440a-9dda-0f89fdeef15c",
   "metadata": {},
   "outputs": [
    {
     "data": {
      "text/plain": [
       "'My Name Is Gopinath'"
      ]
     },
     "execution_count": 118,
     "metadata": {},
     "output_type": "execute_result"
    }
   ],
   "source": [
    "s2.title()"
   ]
  },
  {
   "cell_type": "code",
   "execution_count": 119,
   "id": "3117ce2a-728b-49b6-ae89-2400cbb7fe7d",
   "metadata": {},
   "outputs": [
    {
     "data": {
      "text/plain": [
       "['My', 'name', 'is', 'gopinath']"
      ]
     },
     "execution_count": 119,
     "metadata": {},
     "output_type": "execute_result"
    }
   ],
   "source": [
    "s2.split() #SPLIT will work based on space default"
   ]
  },
  {
   "cell_type": "code",
   "execution_count": 123,
   "id": "3e1629c9-57bd-4e56-bf54-7d03cb3a0995",
   "metadata": {},
   "outputs": [],
   "source": [
    "s3='My, name, is,gopinath'"
   ]
  },
  {
   "cell_type": "code",
   "execution_count": 124,
   "id": "beaaf5df-64aa-43cb-acdc-3033bbc286fc",
   "metadata": {},
   "outputs": [
    {
     "data": {
      "text/plain": [
       "'My, name, is,gopinath'"
      ]
     },
     "execution_count": 124,
     "metadata": {},
     "output_type": "execute_result"
    }
   ],
   "source": [
    "s3"
   ]
  },
  {
   "cell_type": "code",
   "execution_count": 125,
   "id": "ca12fcac-79ae-485f-a4b0-b0c36e04f809",
   "metadata": {},
   "outputs": [
    {
     "data": {
      "text/plain": [
       "['My,', 'name,', 'is,gopinath']"
      ]
     },
     "execution_count": 125,
     "metadata": {},
     "output_type": "execute_result"
    }
   ],
   "source": [
    "s3.split()"
   ]
  },
  {
   "cell_type": "code",
   "execution_count": 126,
   "id": "e3bfbf8a-9c9e-44ce-a631-6c225527e504",
   "metadata": {},
   "outputs": [
    {
     "data": {
      "text/plain": [
       "['My, n', 'me, is,gopin', 'th']"
      ]
     },
     "execution_count": 126,
     "metadata": {},
     "output_type": "execute_result"
    }
   ],
   "source": [
    "s3.split('a')"
   ]
  },
  {
   "cell_type": "code",
   "execution_count": 127,
   "id": "9e7b50d0-87fb-4078-b0c3-41dbcf7adbfd",
   "metadata": {},
   "outputs": [],
   "source": [
    "s4 = \"this is my FSDS Pro class. I am attending this class first time\""
   ]
  },
  {
   "cell_type": "code",
   "execution_count": 128,
   "id": "563e6e3e-3729-42c1-b1e5-6935c1b24b7c",
   "metadata": {},
   "outputs": [
    {
     "data": {
      "text/plain": [
       "['this is my FSDS Pro class', ' I am attending this class first time']"
      ]
     },
     "execution_count": 128,
     "metadata": {},
     "output_type": "execute_result"
    }
   ],
   "source": [
    "s4.split('.')"
   ]
  },
  {
   "cell_type": "code",
   "execution_count": 129,
   "id": "4c795d30-98de-4c4a-97d6-b67ec7fee6bc",
   "metadata": {},
   "outputs": [
    {
     "data": {
      "text/plain": [
       "'this is my FSDS Pro class'"
      ]
     },
     "execution_count": 129,
     "metadata": {},
     "output_type": "execute_result"
    }
   ],
   "source": [
    "s4.split('.')[0]"
   ]
  },
  {
   "cell_type": "code",
   "execution_count": 130,
   "id": "4c3943ef-bb68-4c6f-a09d-c2b5418c2f2c",
   "metadata": {},
   "outputs": [
    {
     "data": {
      "text/plain": [
       "' I am attending this class first time'"
      ]
     },
     "execution_count": 130,
     "metadata": {},
     "output_type": "execute_result"
    }
   ],
   "source": [
    "s4.split('.')[1]"
   ]
  },
  {
   "cell_type": "code",
   "execution_count": 131,
   "id": "c9895584-617e-490a-a53d-c815ade76471",
   "metadata": {},
   "outputs": [
    {
     "data": {
      "text/plain": [
       "'PWSkills'"
      ]
     },
     "execution_count": 131,
     "metadata": {},
     "output_type": "execute_result"
    }
   ],
   "source": [
    "s1"
   ]
  },
  {
   "cell_type": "code",
   "execution_count": 132,
   "id": "cc2f54c3-1e91-4912-b782-86be3d1be4d5",
   "metadata": {},
   "outputs": [
    {
     "data": {
      "text/plain": [
       "'Pwskills'"
      ]
     },
     "execution_count": 132,
     "metadata": {},
     "output_type": "execute_result"
    }
   ],
   "source": [
    "s1.capitalize()"
   ]
  },
  {
   "cell_type": "code",
   "execution_count": 133,
   "id": "6388cd20-62a5-4a0c-a013-2172620ef41e",
   "metadata": {},
   "outputs": [
    {
     "data": {
      "text/plain": [
       "'This is my fsds pro class'"
      ]
     },
     "execution_count": 133,
     "metadata": {},
     "output_type": "execute_result"
    }
   ],
   "source": [
    "s4.split('.')[0].capitalize()"
   ]
  },
  {
   "cell_type": "code",
   "execution_count": 134,
   "id": "a804191c-ff82-4b51-bf2c-a27be734cc72",
   "metadata": {},
   "outputs": [
    {
     "data": {
      "text/plain": [
       "'My name is gopinath'"
      ]
     },
     "execution_count": 134,
     "metadata": {},
     "output_type": "execute_result"
    }
   ],
   "source": [
    "s2"
   ]
  },
  {
   "cell_type": "code",
   "execution_count": 135,
   "id": "f1291d09-d083-45b9-80e8-383a132f13b3",
   "metadata": {},
   "outputs": [
    {
     "data": {
      "text/plain": [
       "'My aame is gopiaath'"
      ]
     },
     "execution_count": 135,
     "metadata": {},
     "output_type": "execute_result"
    }
   ],
   "source": [
    "s2.replace('n','a')"
   ]
  },
  {
   "cell_type": "code",
   "execution_count": 136,
   "id": "34820645-79a1-493a-a806-524b80b9765d",
   "metadata": {},
   "outputs": [
    {
     "data": {
      "text/plain": [
       "'PWSkills'"
      ]
     },
     "execution_count": 136,
     "metadata": {},
     "output_type": "execute_result"
    }
   ],
   "source": [
    "s1 "
   ]
  },
  {
   "cell_type": "code",
   "execution_count": 138,
   "id": "436b27e5-7813-4115-8b6c-23bf29f7c541",
   "metadata": {},
   "outputs": [
    {
     "data": {
      "text/plain": [
       "'******PWSkills******'"
      ]
     },
     "execution_count": 138,
     "metadata": {},
     "output_type": "execute_result"
    }
   ],
   "source": [
    "s1.center(20,'*')"
   ]
  },
  {
   "cell_type": "code",
   "execution_count": 141,
   "id": "aadebab4-d85e-419f-8ff8-f7c2c7619340",
   "metadata": {},
   "outputs": [],
   "source": [
    "s5 = '  Gopinath   '"
   ]
  },
  {
   "cell_type": "code",
   "execution_count": 142,
   "id": "5843c44d-bbe6-4978-b226-5d277d4f0ec1",
   "metadata": {},
   "outputs": [
    {
     "data": {
      "text/plain": [
       "'  Gopinath'"
      ]
     },
     "execution_count": 142,
     "metadata": {},
     "output_type": "execute_result"
    }
   ],
   "source": [
    "s5.rstrip()"
   ]
  },
  {
   "cell_type": "code",
   "execution_count": 143,
   "id": "18da1007-3922-4a57-9b62-d4a58d7f97df",
   "metadata": {},
   "outputs": [
    {
     "data": {
      "text/plain": [
       "'Gopinath   '"
      ]
     },
     "execution_count": 143,
     "metadata": {},
     "output_type": "execute_result"
    }
   ],
   "source": [
    "s5.lstrip()"
   ]
  },
  {
   "cell_type": "code",
   "execution_count": 144,
   "id": "575dcd47-922d-4a8c-8373-2caa99b50373",
   "metadata": {},
   "outputs": [
    {
     "data": {
      "text/plain": [
       "'Gopinath'"
      ]
     },
     "execution_count": 144,
     "metadata": {},
     "output_type": "execute_result"
    }
   ],
   "source": [
    "s5.strip()"
   ]
  },
  {
   "cell_type": "code",
   "execution_count": 145,
   "id": "fdf183fd-346b-4b6b-a7f2-978ec665a75e",
   "metadata": {},
   "outputs": [
    {
     "data": {
      "text/plain": [
       "'PWSkills'"
      ]
     },
     "execution_count": 145,
     "metadata": {},
     "output_type": "execute_result"
    }
   ],
   "source": [
    "s1"
   ]
  },
  {
   "cell_type": "code",
   "execution_count": 146,
   "id": "fe7e2914-f3a0-4d5c-b612-cca536b95e47",
   "metadata": {},
   "outputs": [
    {
     "data": {
      "text/plain": [
       "True"
      ]
     },
     "execution_count": 146,
     "metadata": {},
     "output_type": "execute_result"
    }
   ],
   "source": [
    "s1.isalnum()"
   ]
  },
  {
   "cell_type": "code",
   "execution_count": 148,
   "id": "78871965-4c75-447e-9fb5-f3ffcf30ec56",
   "metadata": {},
   "outputs": [
    {
     "data": {
      "text/plain": [
       "True"
      ]
     },
     "execution_count": 148,
     "metadata": {},
     "output_type": "execute_result"
    }
   ],
   "source": [
    "s1.isalpha()"
   ]
  },
  {
   "cell_type": "code",
   "execution_count": 149,
   "id": "9fa87c5f-257d-4722-8258-a923cc2e0432",
   "metadata": {},
   "outputs": [
    {
     "data": {
      "text/plain": [
       "False"
      ]
     },
     "execution_count": 149,
     "metadata": {},
     "output_type": "execute_result"
    }
   ],
   "source": [
    "s1.isnumeric()"
   ]
  },
  {
   "cell_type": "code",
   "execution_count": 150,
   "id": "d9ae664d-2f07-40d0-9217-9fc56c4bcb98",
   "metadata": {},
   "outputs": [
    {
     "data": {
      "text/plain": [
       "False"
      ]
     },
     "execution_count": 150,
     "metadata": {},
     "output_type": "execute_result"
    }
   ],
   "source": [
    "s1.islower()"
   ]
  },
  {
   "cell_type": "code",
   "execution_count": 151,
   "id": "ea4a850c-75bf-48b9-8451-fcadffac3700",
   "metadata": {},
   "outputs": [
    {
     "data": {
      "text/plain": [
       "[1, 2, 3, 4, 'Gopi', 'nath', (3+6j), 123.153, True, [5, 6, 7]]"
      ]
     },
     "execution_count": 151,
     "metadata": {},
     "output_type": "execute_result"
    }
   ],
   "source": [
    "l1"
   ]
  },
  {
   "cell_type": "code",
   "execution_count": 152,
   "id": "6f200a2b-1e94-4647-8be4-c5738760c069",
   "metadata": {},
   "outputs": [
    {
     "data": {
      "text/plain": [
       "[300, 8, 9, 'pwskills']"
      ]
     },
     "execution_count": 152,
     "metadata": {},
     "output_type": "execute_result"
    }
   ],
   "source": [
    "l2"
   ]
  },
  {
   "cell_type": "code",
   "execution_count": 155,
   "id": "61ccf9bf-1db0-4b1f-a62d-fce4a2421d57",
   "metadata": {},
   "outputs": [],
   "source": [
    "l1.append('Vijaykumar')"
   ]
  },
  {
   "cell_type": "code",
   "execution_count": 156,
   "id": "c98b3d6e-3627-4b24-b852-49f2a7555090",
   "metadata": {},
   "outputs": [
    {
     "data": {
      "text/plain": [
       "[1,\n",
       " 2,\n",
       " 3,\n",
       " 4,\n",
       " 'Gopi',\n",
       " 'nath',\n",
       " (3+6j),\n",
       " 123.153,\n",
       " True,\n",
       " [5, 6, 7],\n",
       " 'adding data in last',\n",
       " 'Vijaykumar']"
      ]
     },
     "execution_count": 156,
     "metadata": {},
     "output_type": "execute_result"
    }
   ],
   "source": [
    "l1"
   ]
  },
  {
   "cell_type": "code",
   "execution_count": 157,
   "id": "acc815b0-e52a-46ec-b63d-9dc093f21ee9",
   "metadata": {},
   "outputs": [],
   "source": [
    "l1.insert(3,'pwskills')"
   ]
  },
  {
   "cell_type": "code",
   "execution_count": 158,
   "id": "4e505605-e28c-49bb-af69-7b78702802d9",
   "metadata": {},
   "outputs": [
    {
     "data": {
      "text/plain": [
       "[1,\n",
       " 2,\n",
       " 3,\n",
       " 'pwskills',\n",
       " 4,\n",
       " 'Gopi',\n",
       " 'nath',\n",
       " (3+6j),\n",
       " 123.153,\n",
       " True,\n",
       " [5, 6, 7],\n",
       " 'adding data in last',\n",
       " 'Vijaykumar']"
      ]
     },
     "execution_count": 158,
     "metadata": {},
     "output_type": "execute_result"
    }
   ],
   "source": [
    "l1"
   ]
  },
  {
   "cell_type": "code",
   "execution_count": 159,
   "id": "06d6dfc5-57cc-4b11-95e0-e81be2f89f5c",
   "metadata": {},
   "outputs": [
    {
     "data": {
      "text/plain": [
       "[300, 8, 9, 'pwskills']"
      ]
     },
     "execution_count": 159,
     "metadata": {},
     "output_type": "execute_result"
    }
   ],
   "source": [
    "l2"
   ]
  },
  {
   "cell_type": "code",
   "execution_count": 160,
   "id": "711b8794-a113-47f1-b9d5-4bc4193918bf",
   "metadata": {},
   "outputs": [],
   "source": [
    "l2.extend('gopi')"
   ]
  },
  {
   "cell_type": "code",
   "execution_count": 162,
   "id": "4639d0e0-a251-4e20-b960-f09a856bc2c0",
   "metadata": {},
   "outputs": [
    {
     "data": {
      "text/plain": [
       "[300, 8, 9, 'pwskills', 'g', 'o', 'p', 'i']"
      ]
     },
     "execution_count": 162,
     "metadata": {},
     "output_type": "execute_result"
    }
   ],
   "source": [
    "l2"
   ]
  },
  {
   "cell_type": "code",
   "execution_count": 163,
   "id": "c82089ec-1e05-45e2-be37-993f784cf227",
   "metadata": {},
   "outputs": [],
   "source": [
    "l2.extend(['gopi'])"
   ]
  },
  {
   "cell_type": "code",
   "execution_count": 164,
   "id": "e77d545f-dbeb-4ab3-9de6-bfc2fd9d1d33",
   "metadata": {},
   "outputs": [
    {
     "data": {
      "text/plain": [
       "[300, 8, 9, 'pwskills', 'g', 'o', 'p', 'i', 'gopi']"
      ]
     },
     "execution_count": 164,
     "metadata": {},
     "output_type": "execute_result"
    }
   ],
   "source": [
    "l2"
   ]
  },
  {
   "cell_type": "code",
   "execution_count": 165,
   "id": "92dc702f-5398-4830-9b66-d586bdb9f333",
   "metadata": {},
   "outputs": [],
   "source": [
    "l3 =[1,2,3,4,5]"
   ]
  },
  {
   "cell_type": "code",
   "execution_count": 166,
   "id": "85c80f45-f1c3-4507-851d-9ba92319d8f2",
   "metadata": {},
   "outputs": [],
   "source": [
    "l3.append([1,2,3])"
   ]
  },
  {
   "cell_type": "code",
   "execution_count": 167,
   "id": "c653df9d-34c5-432f-96e0-904b386bfa59",
   "metadata": {},
   "outputs": [
    {
     "data": {
      "text/plain": [
       "[1, 2, 3, 4, 5, [1, 2, 3]]"
      ]
     },
     "execution_count": 167,
     "metadata": {},
     "output_type": "execute_result"
    }
   ],
   "source": [
    "l3"
   ]
  },
  {
   "cell_type": "code",
   "execution_count": 168,
   "id": "2fcb8902-b4f8-4c96-b2f2-5f5667ec5972",
   "metadata": {},
   "outputs": [],
   "source": [
    "l3.insert(1,[6,7,8])"
   ]
  },
  {
   "cell_type": "code",
   "execution_count": 169,
   "id": "3da20af4-f4e6-4481-918b-ebda9f2f5946",
   "metadata": {},
   "outputs": [
    {
     "data": {
      "text/plain": [
       "[1, [6, 7, 8], 2, 3, 4, 5, [1, 2, 3]]"
      ]
     },
     "execution_count": 169,
     "metadata": {},
     "output_type": "execute_result"
    }
   ],
   "source": [
    "l3"
   ]
  },
  {
   "cell_type": "code",
   "execution_count": 171,
   "id": "4cb90b14-f3df-425e-8419-314a3c40390c",
   "metadata": {},
   "outputs": [],
   "source": [
    "l3.extend([7,8,9])"
   ]
  },
  {
   "cell_type": "code",
   "execution_count": 172,
   "id": "04533d31-8f37-4606-b14c-3be211c686e1",
   "metadata": {},
   "outputs": [
    {
     "data": {
      "text/plain": [
       "[1, [6, 7, 8], 2, 3, 4, 5, [1, 2, 3], 7, 8, 9]"
      ]
     },
     "execution_count": 172,
     "metadata": {},
     "output_type": "execute_result"
    }
   ],
   "source": [
    "l3"
   ]
  },
  {
   "cell_type": "code",
   "execution_count": 173,
   "id": "71426dfd-aae0-4f45-a9fb-21ef3a71f7c5",
   "metadata": {},
   "outputs": [
    {
     "data": {
      "text/plain": [
       "9"
      ]
     },
     "execution_count": 173,
     "metadata": {},
     "output_type": "execute_result"
    }
   ],
   "source": [
    "l3.pop() #deleting the data from last"
   ]
  },
  {
   "cell_type": "code",
   "execution_count": 174,
   "id": "89cac32e-fb76-41cd-9c2c-5eee4332b750",
   "metadata": {},
   "outputs": [
    {
     "data": {
      "text/plain": [
       "[1, [6, 7, 8], 2, 3, 4, 5, [1, 2, 3], 7, 8]"
      ]
     },
     "execution_count": 174,
     "metadata": {},
     "output_type": "execute_result"
    }
   ],
   "source": [
    "l3"
   ]
  },
  {
   "cell_type": "code",
   "execution_count": 175,
   "id": "09b2fc06-dc8b-45c1-bf1f-1fb679b837e3",
   "metadata": {},
   "outputs": [
    {
     "data": {
      "text/plain": [
       "[6, 7, 8]"
      ]
     },
     "execution_count": 175,
     "metadata": {},
     "output_type": "execute_result"
    }
   ],
   "source": [
    "l3.pop(1)"
   ]
  },
  {
   "cell_type": "code",
   "execution_count": 176,
   "id": "93f55d4c-a431-4686-999e-42bdaa04bd2a",
   "metadata": {},
   "outputs": [
    {
     "data": {
      "text/plain": [
       "[1, 2, 3, 4, 5, [1, 2, 3], 7, 8]"
      ]
     },
     "execution_count": 176,
     "metadata": {},
     "output_type": "execute_result"
    }
   ],
   "source": [
    "l3"
   ]
  },
  {
   "cell_type": "code",
   "execution_count": 179,
   "id": "ee47dc9a-fec5-498f-9c81-62f588e7481c",
   "metadata": {},
   "outputs": [
    {
     "ename": "NameError",
     "evalue": "name 'l3' is not defined",
     "output_type": "error",
     "traceback": [
      "\u001b[0;31m---------------------------------------------------------------------------\u001b[0m",
      "\u001b[0;31mNameError\u001b[0m                                 Traceback (most recent call last)",
      "Cell \u001b[0;32mIn[179], line 1\u001b[0m\n\u001b[0;32m----> 1\u001b[0m \u001b[38;5;28;01mdel\u001b[39;00m l3 \u001b[38;5;66;03m#del can delete any entity\u001b[39;00m\n",
      "\u001b[0;31mNameError\u001b[0m: name 'l3' is not defined"
     ]
    }
   ],
   "source": [
    "del l3 #del can delete any entity"
   ]
  },
  {
   "cell_type": "code",
   "execution_count": 180,
   "id": "60973ef9-44fb-411f-9627-74751c3a22ec",
   "metadata": {},
   "outputs": [
    {
     "data": {
      "text/plain": [
       "[300, 8, 9, 'pwskills', 'g', 'o', 'p', 'i', 'gopi']"
      ]
     },
     "execution_count": 180,
     "metadata": {},
     "output_type": "execute_result"
    }
   ],
   "source": [
    "l2"
   ]
  },
  {
   "cell_type": "code",
   "execution_count": 183,
   "id": "6cd2a56f-4ce9-4b8b-a080-e7d3e224798a",
   "metadata": {},
   "outputs": [
    {
     "ename": "ValueError",
     "evalue": "list.remove(x): x not in list",
     "output_type": "error",
     "traceback": [
      "\u001b[0;31m---------------------------------------------------------------------------\u001b[0m",
      "\u001b[0;31mValueError\u001b[0m                                Traceback (most recent call last)",
      "Cell \u001b[0;32mIn[183], line 1\u001b[0m\n\u001b[0;32m----> 1\u001b[0m \u001b[43ml2\u001b[49m\u001b[38;5;241;43m.\u001b[39;49m\u001b[43mremove\u001b[49m\u001b[43m(\u001b[49m\u001b[38;5;124;43m'\u001b[39;49m\u001b[38;5;124;43ms\u001b[39;49m\u001b[38;5;124;43m'\u001b[39;49m\u001b[43m)\u001b[49m \u001b[38;5;66;03m# remove first occurrence\u001b[39;00m\n",
      "\u001b[0;31mValueError\u001b[0m: list.remove(x): x not in list"
     ]
    }
   ],
   "source": [
    "l2.remove('s') # remove first occurrence"
   ]
  },
  {
   "cell_type": "code",
   "execution_count": 184,
   "id": "8459d683-caa8-4ad5-ad2f-c64acd008255",
   "metadata": {},
   "outputs": [
    {
     "ename": "IndexError",
     "evalue": "pop index out of range",
     "output_type": "error",
     "traceback": [
      "\u001b[0;31m---------------------------------------------------------------------------\u001b[0m",
      "\u001b[0;31mIndexError\u001b[0m                                Traceback (most recent call last)",
      "Cell \u001b[0;32mIn[184], line 1\u001b[0m\n\u001b[0;32m----> 1\u001b[0m \u001b[43ml2\u001b[49m\u001b[38;5;241;43m.\u001b[39;49m\u001b[43mpop\u001b[49m\u001b[43m(\u001b[49m\u001b[38;5;241;43m1000\u001b[39;49m\u001b[43m)\u001b[49m\n",
      "\u001b[0;31mIndexError\u001b[0m: pop index out of range"
     ]
    }
   ],
   "source": [
    "l2.pop(1000)"
   ]
  },
  {
   "cell_type": "code",
   "execution_count": 185,
   "id": "a74881ce-2f96-495e-a940-ac4e606f4e74",
   "metadata": {},
   "outputs": [
    {
     "data": {
      "text/plain": [
       "[1,\n",
       " 2,\n",
       " 3,\n",
       " 'pwskills',\n",
       " 4,\n",
       " 'Gopi',\n",
       " 'nath',\n",
       " (3+6j),\n",
       " 123.153,\n",
       " True,\n",
       " [5, 6, 7],\n",
       " 'adding data in last',\n",
       " 'Vijaykumar']"
      ]
     },
     "execution_count": 185,
     "metadata": {},
     "output_type": "execute_result"
    }
   ],
   "source": [
    "l1"
   ]
  },
  {
   "cell_type": "code",
   "execution_count": 186,
   "id": "c35693ac-8712-4156-8233-02346b583233",
   "metadata": {},
   "outputs": [],
   "source": [
    "l1.clear() #list will not delete but values will be cleared"
   ]
  },
  {
   "cell_type": "code",
   "execution_count": 187,
   "id": "16d59763-f383-4ce2-9930-0dc54e69901b",
   "metadata": {},
   "outputs": [
    {
     "data": {
      "text/plain": [
       "[]"
      ]
     },
     "execution_count": 187,
     "metadata": {},
     "output_type": "execute_result"
    }
   ],
   "source": [
    "l1"
   ]
  },
  {
   "cell_type": "code",
   "execution_count": 188,
   "id": "596c8f60-dd3d-4e01-89df-79d97f4982af",
   "metadata": {},
   "outputs": [
    {
     "data": {
      "text/plain": [
       "[300, 8, 9, 'pwskills', 'g', 'o', 'p', 'i', 'gopi']"
      ]
     },
     "execution_count": 188,
     "metadata": {},
     "output_type": "execute_result"
    }
   ],
   "source": [
    "l2"
   ]
  },
  {
   "cell_type": "code",
   "execution_count": 190,
   "id": "b6b792b0-53e9-4cb8-bbad-66ac48fdf4c1",
   "metadata": {},
   "outputs": [
    {
     "data": {
      "text/plain": [
       "1"
      ]
     },
     "execution_count": 190,
     "metadata": {},
     "output_type": "execute_result"
    }
   ],
   "source": [
    "l2.count('g')"
   ]
  },
  {
   "cell_type": "code",
   "execution_count": 191,
   "id": "178a6662-e0a8-408e-9400-8c57540f2f80",
   "metadata": {},
   "outputs": [
    {
     "data": {
      "text/plain": [
       "5"
      ]
     },
     "execution_count": 191,
     "metadata": {},
     "output_type": "execute_result"
    }
   ],
   "source": [
    "l2.index('o')"
   ]
  },
  {
   "cell_type": "code",
   "execution_count": 192,
   "id": "7e8e9d75-ee53-4f5c-a648-00582b83f4b2",
   "metadata": {},
   "outputs": [],
   "source": [
    "l2.reverse()"
   ]
  },
  {
   "cell_type": "code",
   "execution_count": 193,
   "id": "4fec53a5-3bf2-4957-81a6-754c9b6c3a7f",
   "metadata": {},
   "outputs": [
    {
     "data": {
      "text/plain": [
       "['gopi', 'i', 'p', 'o', 'g', 'pwskills', 9, 8, 300]"
      ]
     },
     "execution_count": 193,
     "metadata": {},
     "output_type": "execute_result"
    }
   ],
   "source": [
    "l2"
   ]
  },
  {
   "cell_type": "code",
   "execution_count": 195,
   "id": "e71c45bd-89a3-4535-b170-49a664f16e2c",
   "metadata": {},
   "outputs": [],
   "source": [
    "l3 = [8,56,2,4,3,7]"
   ]
  },
  {
   "cell_type": "code",
   "execution_count": 198,
   "id": "2895ba68-b53c-4dea-b7e2-ff4a31ab013d",
   "metadata": {},
   "outputs": [],
   "source": [
    "l3.sort() #will work with only homogenious not hetrogenious"
   ]
  },
  {
   "cell_type": "code",
   "execution_count": 197,
   "id": "2424d739-3980-4747-b9f4-ddc82cd9d971",
   "metadata": {},
   "outputs": [
    {
     "data": {
      "text/plain": [
       "[2, 3, 4, 7, 8, 56]"
      ]
     },
     "execution_count": 197,
     "metadata": {},
     "output_type": "execute_result"
    }
   ],
   "source": [
    "l3"
   ]
  },
  {
   "cell_type": "code",
   "execution_count": 199,
   "id": "b122894b-4f3c-46d5-bb89-5016d3283e42",
   "metadata": {},
   "outputs": [],
   "source": [
    "l3.sort(reverse=True)"
   ]
  },
  {
   "cell_type": "code",
   "execution_count": 200,
   "id": "7fdb43c8-227f-4ba9-986d-8b920a3560ae",
   "metadata": {},
   "outputs": [
    {
     "data": {
      "text/plain": [
       "[56, 8, 7, 4, 3, 2]"
      ]
     },
     "execution_count": 200,
     "metadata": {},
     "output_type": "execute_result"
    }
   ],
   "source": [
    "l3"
   ]
  },
  {
   "cell_type": "code",
   "execution_count": 203,
   "id": "286821ad-cdc6-467d-bef7-5b6f49d352c5",
   "metadata": {},
   "outputs": [],
   "source": [
    "l5 = [8,4,2,6,4,8,6,2,3,1,4,3,7]"
   ]
  },
  {
   "cell_type": "code",
   "execution_count": 204,
   "id": "52e6b6f3-32e7-433b-adef-bb79af73e4a0",
   "metadata": {},
   "outputs": [
    {
     "data": {
      "text/plain": [
       "[8, 4, 2, 6, 4, 8, 6, 2, 3, 1, 4, 3, 7]"
      ]
     },
     "execution_count": 204,
     "metadata": {},
     "output_type": "execute_result"
    }
   ],
   "source": [
    "l5"
   ]
  },
  {
   "cell_type": "code",
   "execution_count": 205,
   "id": "0941be41-da44-4bed-a749-f7a5d4b5c196",
   "metadata": {},
   "outputs": [],
   "source": [
    "l6 = set(l5)"
   ]
  },
  {
   "cell_type": "code",
   "execution_count": 211,
   "id": "f1756a21-5e13-4549-8285-9274f9e99787",
   "metadata": {},
   "outputs": [
    {
     "data": {
      "text/plain": [
       "{1, 2, 3, 4, 6, 7, 8}"
      ]
     },
     "execution_count": 211,
     "metadata": {},
     "output_type": "execute_result"
    }
   ],
   "source": [
    "l6"
   ]
  },
  {
   "cell_type": "code",
   "execution_count": 212,
   "id": "81412d4f-f2c2-426e-beb3-777c4bb573f3",
   "metadata": {},
   "outputs": [],
   "source": [
    "l7 = list(l6)"
   ]
  },
  {
   "cell_type": "code",
   "execution_count": 213,
   "id": "e4a88756-1a69-4f9b-977d-d2ba6c385cf7",
   "metadata": {},
   "outputs": [],
   "source": [
    "l7.sort()"
   ]
  },
  {
   "cell_type": "code",
   "execution_count": 214,
   "id": "21163a2e-6922-4d36-aac7-56851cd8d07c",
   "metadata": {},
   "outputs": [
    {
     "data": {
      "text/plain": [
       "[1, 2, 3, 4, 6, 7, 8]"
      ]
     },
     "execution_count": 214,
     "metadata": {},
     "output_type": "execute_result"
    }
   ],
   "source": [
    "l7"
   ]
  },
  {
   "cell_type": "code",
   "execution_count": 215,
   "id": "af56ca27-ecfb-4aad-9fef-5c89029e093b",
   "metadata": {},
   "outputs": [],
   "source": [
    "l0 = [2,3,4,5]"
   ]
  },
  {
   "cell_type": "code",
   "execution_count": 228,
   "id": "9a1e25a3-1e42-405d-afb1-6218fdb8ab98",
   "metadata": {},
   "outputs": [],
   "source": [
    "l1=l0 #swallo copy will make change in both variables"
   ]
  },
  {
   "cell_type": "code",
   "execution_count": 217,
   "id": "5ac4bcf8-39c8-4ed1-b561-adcfe9d87bf3",
   "metadata": {},
   "outputs": [
    {
     "data": {
      "text/plain": [
       "[2, 3, 4, 5]"
      ]
     },
     "execution_count": 217,
     "metadata": {},
     "output_type": "execute_result"
    }
   ],
   "source": [
    "l1"
   ]
  },
  {
   "cell_type": "code",
   "execution_count": 218,
   "id": "1d86aa56-22ca-415c-9b14-66e0bad11482",
   "metadata": {},
   "outputs": [
    {
     "data": {
      "text/plain": [
       "[2, 3, 4, 5]"
      ]
     },
     "execution_count": 218,
     "metadata": {},
     "output_type": "execute_result"
    }
   ],
   "source": [
    "l0"
   ]
  },
  {
   "cell_type": "code",
   "execution_count": 219,
   "id": "27fc3bf9-8a0f-4089-9602-2d0ecc53f0fc",
   "metadata": {},
   "outputs": [],
   "source": [
    "l0[0]=200"
   ]
  },
  {
   "cell_type": "code",
   "execution_count": 221,
   "id": "e3c1925b-5b75-4cf1-98ca-8664c5bbf217",
   "metadata": {},
   "outputs": [
    {
     "data": {
      "text/plain": [
       "[200, 3, 4, 5]"
      ]
     },
     "execution_count": 221,
     "metadata": {},
     "output_type": "execute_result"
    }
   ],
   "source": [
    "l1"
   ]
  },
  {
   "cell_type": "code",
   "execution_count": 229,
   "id": "d7c7915a-a907-4929-b901-4744c6bfa4e7",
   "metadata": {},
   "outputs": [],
   "source": [
    "l2 = l0.copy() #deep copy which another variable will not affect"
   ]
  },
  {
   "cell_type": "code",
   "execution_count": 223,
   "id": "6d0f6bb3-b7b1-44fd-a9ae-4de0adaaf7ce",
   "metadata": {},
   "outputs": [
    {
     "data": {
      "text/plain": [
       "[200, 3, 4, 5]"
      ]
     },
     "execution_count": 223,
     "metadata": {},
     "output_type": "execute_result"
    }
   ],
   "source": [
    "l2"
   ]
  },
  {
   "cell_type": "code",
   "execution_count": 224,
   "id": "0c086fcc-24db-4235-92f5-27f6d3732a4d",
   "metadata": {},
   "outputs": [],
   "source": [
    "l0[1]=300"
   ]
  },
  {
   "cell_type": "code",
   "execution_count": 225,
   "id": "49014b52-f93e-4c56-ae9e-7b83d99a9f85",
   "metadata": {},
   "outputs": [
    {
     "data": {
      "text/plain": [
       "[200, 300, 4, 5]"
      ]
     },
     "execution_count": 225,
     "metadata": {},
     "output_type": "execute_result"
    }
   ],
   "source": [
    "l0"
   ]
  },
  {
   "cell_type": "code",
   "execution_count": 226,
   "id": "363f3eb5-b22b-4852-b30a-946301bd05d3",
   "metadata": {},
   "outputs": [
    {
     "data": {
      "text/plain": [
       "[200, 300, 4, 5]"
      ]
     },
     "execution_count": 226,
     "metadata": {},
     "output_type": "execute_result"
    }
   ],
   "source": [
    "l1"
   ]
  },
  {
   "cell_type": "code",
   "execution_count": 227,
   "id": "3b839998-5cf2-400c-aa31-f9609e65e265",
   "metadata": {},
   "outputs": [
    {
     "data": {
      "text/plain": [
       "[200, 3, 4, 5]"
      ]
     },
     "execution_count": 227,
     "metadata": {},
     "output_type": "execute_result"
    }
   ],
   "source": [
    "l2"
   ]
  },
  {
   "cell_type": "code",
   "execution_count": 230,
   "id": "54d3da6c-8327-47c0-bac8-90e758d8d80f",
   "metadata": {},
   "outputs": [
    {
     "data": {
      "text/plain": [
       "(1, 2, 3, 4, 'Gopi', 'nath', (1+4j), False)"
      ]
     },
     "execution_count": 230,
     "metadata": {},
     "output_type": "execute_result"
    }
   ],
   "source": [
    "t"
   ]
  },
  {
   "cell_type": "code",
   "execution_count": 232,
   "id": "ce052216-dfd5-4a06-9250-1406a7bc94a9",
   "metadata": {},
   "outputs": [
    {
     "data": {
      "text/plain": [
       "1"
      ]
     },
     "execution_count": 232,
     "metadata": {},
     "output_type": "execute_result"
    }
   ],
   "source": [
    "t.count(4)"
   ]
  },
  {
   "cell_type": "code",
   "execution_count": 233,
   "id": "9c30ffab-2eb8-4c89-b1bb-edd7aadb8858",
   "metadata": {},
   "outputs": [
    {
     "data": {
      "text/plain": [
       "4"
      ]
     },
     "execution_count": 233,
     "metadata": {},
     "output_type": "execute_result"
    }
   ],
   "source": [
    "t.index('Gopi')"
   ]
  },
  {
   "cell_type": "code",
   "execution_count": 235,
   "id": "02345830-3c83-4d17-86f5-53a564b92b19",
   "metadata": {},
   "outputs": [],
   "source": [
    "s={3,4,5,6,7,8,3,5,8,9,}"
   ]
  },
  {
   "cell_type": "code",
   "execution_count": 236,
   "id": "9e530d33-fd3d-49d4-8fb9-320471c1793b",
   "metadata": {},
   "outputs": [
    {
     "data": {
      "text/plain": [
       "set"
      ]
     },
     "execution_count": 236,
     "metadata": {},
     "output_type": "execute_result"
    }
   ],
   "source": [
    "type(s)"
   ]
  },
  {
   "cell_type": "code",
   "execution_count": 237,
   "id": "78e9a912-0809-4bb2-8f11-02312c14d809",
   "metadata": {},
   "outputs": [],
   "source": [
    "s.add(23)"
   ]
  },
  {
   "cell_type": "code",
   "execution_count": 239,
   "id": "043d978c-ba68-474d-86c5-b4ac7de55987",
   "metadata": {},
   "outputs": [
    {
     "data": {
      "text/plain": [
       "{3, 4, 5, 6, 7, 8, 9, 23}"
      ]
     },
     "execution_count": 239,
     "metadata": {},
     "output_type": "execute_result"
    }
   ],
   "source": [
    "s"
   ]
  },
  {
   "cell_type": "code",
   "execution_count": 240,
   "id": "f4a6a518-136d-49a4-9266-82fda3323727",
   "metadata": {},
   "outputs": [],
   "source": [
    "s.discard(23)"
   ]
  },
  {
   "cell_type": "code",
   "execution_count": 241,
   "id": "01831f4f-fd20-44c2-b280-ed163899f6d8",
   "metadata": {},
   "outputs": [
    {
     "data": {
      "text/plain": [
       "{3, 4, 5, 6, 7, 8, 9}"
      ]
     },
     "execution_count": 241,
     "metadata": {},
     "output_type": "execute_result"
    }
   ],
   "source": [
    "s"
   ]
  },
  {
   "cell_type": "code",
   "execution_count": 242,
   "id": "86a8b2b6-06db-404e-a01c-7f03b43cc268",
   "metadata": {},
   "outputs": [
    {
     "data": {
      "text/plain": [
       "3"
      ]
     },
     "execution_count": 242,
     "metadata": {},
     "output_type": "execute_result"
    }
   ],
   "source": [
    "s.pop()"
   ]
  },
  {
   "cell_type": "code",
   "execution_count": 244,
   "id": "722f35f4-5a6b-4e95-8434-585838c6a234",
   "metadata": {},
   "outputs": [],
   "source": [
    "s.remove(5)"
   ]
  },
  {
   "cell_type": "code",
   "execution_count": 245,
   "id": "6f832d2d-e765-4027-b281-065ae8dad814",
   "metadata": {},
   "outputs": [
    {
     "data": {
      "text/plain": [
       "{4, 6, 7, 8, 9}"
      ]
     },
     "execution_count": 245,
     "metadata": {},
     "output_type": "execute_result"
    }
   ],
   "source": [
    "s"
   ]
  },
  {
   "cell_type": "code",
   "execution_count": 247,
   "id": "f783bc76-602c-4a55-89b4-19ab7bb74a08",
   "metadata": {},
   "outputs": [
    {
     "data": {
      "text/plain": [
       "{'Name': 'Gopinath',\n",
       " 'Sub': ['Data Science', 'Data Eng', 'Data Analyst'],\n",
       " 'No': 4}"
      ]
     },
     "execution_count": 247,
     "metadata": {},
     "output_type": "execute_result"
    }
   ],
   "source": [
    "d1"
   ]
  },
  {
   "cell_type": "code",
   "execution_count": 250,
   "id": "1d95beba-8ad1-4949-a4b9-4f4f83935cff",
   "metadata": {},
   "outputs": [
    {
     "data": {
      "text/plain": [
       "['Name', 'Sub', 'No']"
      ]
     },
     "execution_count": 250,
     "metadata": {},
     "output_type": "execute_result"
    }
   ],
   "source": [
    "list(d1.keys())"
   ]
  },
  {
   "cell_type": "code",
   "execution_count": 251,
   "id": "6eff3084-4a87-4593-a2cc-8b4e4471b054",
   "metadata": {},
   "outputs": [
    {
     "data": {
      "text/plain": [
       "['Gopinath', ['Data Science', 'Data Eng', 'Data Analyst'], 4]"
      ]
     },
     "execution_count": 251,
     "metadata": {},
     "output_type": "execute_result"
    }
   ],
   "source": [
    "list(d1.values())"
   ]
  },
  {
   "cell_type": "code",
   "execution_count": 252,
   "id": "ea3df437-3cfc-4933-8cb3-52797bf83506",
   "metadata": {},
   "outputs": [
    {
     "data": {
      "text/plain": [
       "[('Name', 'Gopinath'),\n",
       " ('Sub', ['Data Science', 'Data Eng', 'Data Analyst']),\n",
       " ('No', 4)]"
      ]
     },
     "execution_count": 252,
     "metadata": {},
     "output_type": "execute_result"
    }
   ],
   "source": [
    "list(d1.items())"
   ]
  },
  {
   "cell_type": "code",
   "execution_count": 254,
   "id": "bd0db52c-afc2-4ee5-aaaf-a8a9fd6c20e6",
   "metadata": {},
   "outputs": [
    {
     "data": {
      "text/plain": [
       "'Gopinath'"
      ]
     },
     "execution_count": 254,
     "metadata": {},
     "output_type": "execute_result"
    }
   ],
   "source": [
    "d1.get('Name')"
   ]
  },
  {
   "cell_type": "code",
   "execution_count": 255,
   "id": "e2546cb5-4985-40f0-b1af-fe533540ae93",
   "metadata": {},
   "outputs": [
    {
     "data": {
      "text/plain": [
       "['Data Science', 'Data Eng', 'Data Analyst']"
      ]
     },
     "execution_count": 255,
     "metadata": {},
     "output_type": "execute_result"
    }
   ],
   "source": [
    "d1.pop('Sub')"
   ]
  },
  {
   "cell_type": "code",
   "execution_count": 256,
   "id": "e7639519-9c5f-444a-9486-740bfe61bdf9",
   "metadata": {},
   "outputs": [
    {
     "data": {
      "text/plain": [
       "{'Name': 'Gopinath', 'No': 4}"
      ]
     },
     "execution_count": 256,
     "metadata": {},
     "output_type": "execute_result"
    }
   ],
   "source": [
    "d1"
   ]
  },
  {
   "cell_type": "code",
   "execution_count": null,
   "id": "23aaf57f-6c39-4e71-af52-9d7d42cddf30",
   "metadata": {},
   "outputs": [],
   "source": []
  }
 ],
 "metadata": {
  "kernelspec": {
   "display_name": "Python 3 (ipykernel)",
   "language": "python",
   "name": "python3"
  },
  "language_info": {
   "codemirror_mode": {
    "name": "ipython",
    "version": 3
   },
   "file_extension": ".py",
   "mimetype": "text/x-python",
   "name": "python",
   "nbconvert_exporter": "python",
   "pygments_lexer": "ipython3",
   "version": "3.10.8"
  }
 },
 "nbformat": 4,
 "nbformat_minor": 5
}
