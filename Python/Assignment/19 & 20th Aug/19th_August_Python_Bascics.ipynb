{
 "cells": [
  {
   "cell_type": "markdown",
   "id": "b08f0fe0-eca8-4cd4-83f5-a15f5d5ca6d8",
   "metadata": {},
   "source": [
    "## Python Basics Variable"
   ]
  },
  {
   "cell_type": "code",
   "execution_count": 13,
   "id": "1059509a-7743-4b21-b230-c371fd914ca3",
   "metadata": {},
   "outputs": [
    {
     "name": "stdout",
     "output_type": "stream",
     "text": [
      "Old 'x' value is  10\n",
      "Old 'y' value is  20\n",
      "\n",
      "New 'x' value is  20\n",
      "New 'y' value is  10\n"
     ]
    }
   ],
   "source": [
    "'''\n",
    "Declare two variables, `x` and `y`, and assign them integer values. \n",
    "Swap the values of these variables without using any temporary variable.\n",
    "'''\n",
    "\n",
    "#Declaring variables and assigning values to them\n",
    "x = 10\n",
    "y = 20\n",
    "\n",
    "# Printing the assigned values\n",
    "print(\"Old 'x' value is \",x)\n",
    "print(\"Old 'y' value is \",y)\n",
    "\n",
    "x, y = y, x #Swaping values without temp variable\n",
    "\n",
    "#Printing new(swaped) values \n",
    "print(\"\\nNew 'x' value is \",x)\n",
    "print(\"New 'y' value is \",y)"
   ]
  },
  {
   "cell_type": "code",
   "execution_count": 14,
   "id": "ab27923b-c653-43c6-a24d-1be35588aaa9",
   "metadata": {},
   "outputs": [
    {
     "name": "stdin",
     "output_type": "stream",
     "text": [
      "Enter rectangle length 12.5\n",
      "Enter rectangle width 50\n"
     ]
    },
    {
     "name": "stdout",
     "output_type": "stream",
     "text": [
      "\n",
      "Length of Rectangle 12.5\n",
      "Width of Rectangle 50.0\n",
      "\n",
      "Area of Rectangle 625.0\n"
     ]
    }
   ],
   "source": [
    "'''\n",
    "Create a program that calculates the area of a rectangle. \n",
    "Take the length and width as inputs from the user and store them in variables. \n",
    "Calculate and display the area.\n",
    "'''\n",
    "\n",
    "#Rectangle formula to calculate 'Area of Rectangle is length * width'\n",
    "\n",
    "# Getting user input for Rectangle\n",
    "length = float(input('Enter rectangle length'))\n",
    "width = float(input('Enter rectangle width'))\n",
    "\n",
    "# Printing the given Length and Width\n",
    "print('\\nLength of Rectangle',length)\n",
    "print('Width of Rectangle',width)\n",
    "\n",
    "# Applying math formula to calculate Area of Rectangle\n",
    "area = length * width\n",
    "\n",
    "# Printing Area of Rectangle\n",
    "print('\\nArea of Rectangle', area)"
   ]
  },
  {
   "cell_type": "code",
   "execution_count": 31,
   "id": "0f4fb857-c282-4be4-9b38-8e0bafcf564a",
   "metadata": {},
   "outputs": [
    {
     "name": "stdin",
     "output_type": "stream",
     "text": [
      "Enter temperature in Celsius: 45\n"
     ]
    },
    {
     "name": "stdout",
     "output_type": "stream",
     "text": [
      "\n",
      "User provided temperature in Celsius: 45.0\n",
      "\n",
      "Fahrenheit value for given Celsius 113.0\n"
     ]
    }
   ],
   "source": [
    "'''\n",
    "Write a Python program that converts temperature from Celsius to Fahrenheit. \n",
    "Take the temperature in Celsius as input, store it in a variable, \n",
    "convert it to Fahrenheit, and display the result.\n",
    "'''\n",
    "\n",
    "#Formula to convert Fahrenheit to Celsius '°F = °C × (9/5) + 32'\n",
    "\n",
    "# Getting value of Celsius from user\n",
    "celsius = float(input('Enter temperature in Celsius:'))\n",
    "\n",
    "# Printing the user provided Celsius value\n",
    "print('\\nUser provided temperature in Celsius:',celsius)\n",
    "\n",
    "#Formula to convert celsius to fahrenheit\n",
    "fahr = celsius * (9/5) + 32\n",
    "\n",
    "# Printing Fahreneit value \n",
    "print('\\nFahrenheit value for given Celsius', fahr)"
   ]
  },
  {
   "cell_type": "markdown",
   "id": "b010ee7e-a3ca-4b74-b160-2f0afca27f7a",
   "metadata": {},
   "source": [
    "## String Based Questions"
   ]
  },
  {
   "cell_type": "code",
   "execution_count": 17,
   "id": "f2e36d3a-c840-4d85-ad2b-7495a0f65ea8",
   "metadata": {},
   "outputs": [
    {
     "name": "stdin",
     "output_type": "stream",
     "text": [
      "Please enter sentence:  checking the lenght of string\n"
     ]
    },
    {
     "name": "stdout",
     "output_type": "stream",
     "text": [
      "\n",
      "Length of user entered sentence is 29\n"
     ]
    }
   ],
   "source": [
    "'''\n",
    "Write a Python program that takes a string as input and prints the length of the string.\n",
    "'''\n",
    "\n",
    "#Getting a sentence from user as input\n",
    "string1 = str(input('Please enter sentence: '))\n",
    "\n",
    "#using len() to get the length of string provided by user\n",
    "length = len(string1)\n",
    "\n",
    "#printing the length of string provided by user\n",
    "print('\\nLength of user entered sentence is',length)"
   ]
  },
  {
   "cell_type": "code",
   "execution_count": 18,
   "id": "67ac38c9-367a-4205-9e31-54d53472149f",
   "metadata": {},
   "outputs": [
    {
     "name": "stdin",
     "output_type": "stream",
     "text": [
      "Enter the string here:  I Ate apple yestErdAy mOrning\n"
     ]
    },
    {
     "name": "stdout",
     "output_type": "stream",
     "text": [
      "\n",
      "No of 'a' in string 1\n",
      "No of 'e' in string 3\n",
      "No of 'i' in string 1\n",
      "No of 'o' in string 0\n",
      "No of 'u' in string 0\n",
      "\n",
      "No of 'A' in string 2\n",
      "No of 'E' in string 1\n",
      "No of 'I' in string 1\n",
      "No of 'O' in string 1\n",
      "No of 'U' in string 0\n"
     ]
    }
   ],
   "source": [
    "'''\n",
    "Create a program that takes a sentence from the user and counts the\n",
    "number of vowels (a, e, i, o, u) in the string.\n",
    "'''\n",
    "#Getting a sentence from user as input\n",
    "string5 = str(input('Enter the string here: '))\n",
    "\n",
    "#converting string to list which may help to count the vowels\n",
    "str5 = list(string5)\n",
    "\n",
    "#Using count() to get the count and printing the count of vowels in lower case\n",
    "print(\"\\nNo of 'a' in string\",str5.count('a'))\n",
    "print(\"No of 'e' in string\",str5.count('e'))\n",
    "print(\"No of 'i' in string\",str5.count('i'))\n",
    "print(\"No of 'o' in string\",str5.count('o'))\n",
    "print(\"No of 'u' in string\",str5.count('u'))\n",
    "\n",
    "#Using count() to get the count and printing the count of vowels in upper case\n",
    "print(\"\\nNo of 'A' in string\",str5.count('A'))\n",
    "print(\"No of 'E' in string\",str5.count('E'))\n",
    "print(\"No of 'I' in string\",str5.count('I'))\n",
    "print(\"No of 'O' in string\",str5.count('O'))\n",
    "print(\"No of 'U' in string\",str5.count('U'))"
   ]
  },
  {
   "cell_type": "code",
   "execution_count": 33,
   "id": "79ae9cbc-9704-4a05-b5f0-d3519c6248fe",
   "metadata": {},
   "outputs": [
    {
     "name": "stdout",
     "output_type": "stream",
     "text": [
      "This is original string working on string reverse function using slicing\n",
      "\n",
      "String after reversed using slicing\n",
      " gnicils gnisu noitcnuf esrever gnirts no gnikrow\n"
     ]
    }
   ],
   "source": [
    "'''\n",
    "Given a string, reverse the order of characters using string slicing and print the reversed string.\n",
    "'''\n",
    "\n",
    "# Given a string and assigned them into variable\n",
    "string2 = 'working on string reverse function using slicing'\n",
    "\n",
    "#printing the original string\n",
    "print('This is original string',string2)\n",
    "\n",
    "# Printing the given string in reverse order using slicing\n",
    "print('\\nString after reversed using slicing\\n',string2[::-1])"
   ]
  },
  {
   "cell_type": "code",
   "execution_count": 20,
   "id": "aa0d9473-2b8e-49bc-a62a-3d5e6416ef11",
   "metadata": {},
   "outputs": [
    {
     "name": "stdin",
     "output_type": "stream",
     "text": [
      "Enter the string here:  rotator\n"
     ]
    },
    {
     "name": "stdout",
     "output_type": "stream",
     "text": [
      "\n",
      "This is Palindrome\n"
     ]
    }
   ],
   "source": [
    "'''\n",
    "Write a program that takes a string as input and checks if it is a\n",
    "palindrome (reads the same forwards and backwards).\n",
    "'''\n",
    "\n",
    "# Getting input from user \n",
    "org_str = str(input('Enter the string here: '))\n",
    "\n",
    "# assinging reversed string into new variable\n",
    "rev_str = org_str[::-1]\n",
    "\n",
    "# using IF statement checking the old(original) and new(reversed) string are same or not\n",
    "if org_str == rev_str:\n",
    "    print('\\nThis is Palindrome')\n",
    "else:\n",
    "    print('\\nNot Palindrome')"
   ]
  },
  {
   "cell_type": "code",
   "execution_count": 29,
   "id": "e05fc084-e7b2-4c2c-84c5-b42264bd8451",
   "metadata": {},
   "outputs": [
    {
     "name": "stdin",
     "output_type": "stream",
     "text": [
      "Enter the string here:    G OP I N AT H  \n"
     ]
    },
    {
     "name": "stdout",
     "output_type": "stream",
     "text": [
      "User given string    G OP I N AT H  \n",
      "\n",
      "Given string after removed all the spaces GOPINATH\n"
     ]
    }
   ],
   "source": [
    "'''\n",
    "Create a program that takes a string as input and removes all the\n",
    "spaces from it. Print the modified string without spaces.\n",
    "'''\n",
    "\n",
    "# Getting input from user\n",
    "string4 = str(input('Enter the string here: '))\n",
    "\n",
    "#printing the user entered string\n",
    "print('User given string ', string4)\n",
    "\n",
    "# Removing all the spaces from the given input by using replace()\n",
    "print('\\nGiven string after removed all the spaces',string4.replace(\" \",\"\"))"
   ]
  },
  {
   "cell_type": "code",
   "execution_count": null,
   "id": "61fb26cc-2c90-4dc7-a452-1087253c002e",
   "metadata": {},
   "outputs": [],
   "source": []
  }
 ],
 "metadata": {
  "kernelspec": {
   "display_name": "Python 3 (ipykernel)",
   "language": "python",
   "name": "python3"
  },
  "language_info": {
   "codemirror_mode": {
    "name": "ipython",
    "version": 3
   },
   "file_extension": ".py",
   "mimetype": "text/x-python",
   "name": "python",
   "nbconvert_exporter": "python",
   "pygments_lexer": "ipython3",
   "version": "3.10.8"
  }
 },
 "nbformat": 4,
 "nbformat_minor": 5
}
