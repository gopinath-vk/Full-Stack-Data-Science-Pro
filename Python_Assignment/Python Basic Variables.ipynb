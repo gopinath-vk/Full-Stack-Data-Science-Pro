{
 "cells": [
  {
   "cell_type": "code",
   "execution_count": 1,
   "id": "593e531b-2703-4c02-88df-19f9e7019330",
   "metadata": {},
   "outputs": [
    {
     "data": {
      "text/plain": [
       "3"
      ]
     },
     "execution_count": 1,
     "metadata": {},
     "output_type": "execute_result"
    }
   ],
   "source": [
    "1+2"
   ]
  },
  {
   "cell_type": "code",
   "execution_count": 2,
   "id": "972d801c-275c-4aa6-a21d-9d2e9a3e06eb",
   "metadata": {},
   "outputs": [],
   "source": [
    "a=10"
   ]
  },
  {
   "cell_type": "code",
   "execution_count": 3,
   "id": "27d60e63-4dbf-4f6b-b99b-42abf3d8e671",
   "metadata": {},
   "outputs": [
    {
     "data": {
      "text/plain": [
       "10"
      ]
     },
     "execution_count": 3,
     "metadata": {},
     "output_type": "execute_result"
    }
   ],
   "source": [
    "a"
   ]
  },
  {
   "cell_type": "code",
   "execution_count": 4,
   "id": "b147e075-5b50-4551-90c8-a3d0b82514f5",
   "metadata": {},
   "outputs": [],
   "source": [
    "gop = 123"
   ]
  },
  {
   "cell_type": "code",
   "execution_count": 5,
   "id": "e867b94d-52b6-4350-a229-d9095f629694",
   "metadata": {},
   "outputs": [
    {
     "data": {
      "text/plain": [
       "123"
      ]
     },
     "execution_count": 5,
     "metadata": {},
     "output_type": "execute_result"
    }
   ],
   "source": [
    "gop"
   ]
  },
  {
   "cell_type": "code",
   "execution_count": 6,
   "id": "56f89ceb-1d61-42c4-a056-baed8f6be779",
   "metadata": {},
   "outputs": [
    {
     "data": {
      "text/plain": [
       "int"
      ]
     },
     "execution_count": 6,
     "metadata": {},
     "output_type": "execute_result"
    }
   ],
   "source": [
    "type(gop)"
   ]
  },
  {
   "cell_type": "markdown",
   "id": "6adedb97-6f01-47d1-bfc9-92be8edc07fb",
   "metadata": {},
   "source": [
    "1. We can provide provide anything as variables but there is a some restrictions\n",
    "2. Equalto(=) - is a assignment variable which is assigning the value to the mentioned variables\n",
    "3. type(variable) will give us the datatype\n",
    "    3.1 In other prog languages we have to mention/declare datatype but python will automatically assign\n",
    "    Ex - Java - int a = 10"
   ]
  },
  {
   "cell_type": "code",
   "execution_count": 7,
   "id": "6813874d-e4f1-4f19-bc71-adcce23358a0",
   "metadata": {},
   "outputs": [],
   "source": [
    "s = 'You are awesome'"
   ]
  },
  {
   "cell_type": "code",
   "execution_count": 8,
   "id": "1c31419d-46ce-4d0d-a755-ae4e10469dc7",
   "metadata": {},
   "outputs": [
    {
     "data": {
      "text/plain": [
       "'You are awesome'"
      ]
     },
     "execution_count": 8,
     "metadata": {},
     "output_type": "execute_result"
    }
   ],
   "source": [
    "s"
   ]
  },
  {
   "cell_type": "code",
   "execution_count": 9,
   "id": "9bcf8223-fc23-49c4-8b1a-dd4d0d289d3d",
   "metadata": {},
   "outputs": [
    {
     "data": {
      "text/plain": [
       "str"
      ]
     },
     "execution_count": 9,
     "metadata": {},
     "output_type": "execute_result"
    }
   ],
   "source": [
    "type(s)"
   ]
  },
  {
   "cell_type": "markdown",
   "id": "22f7dd06-5054-4961-ac7b-c5d22f4915f9",
   "metadata": {},
   "source": [
    "1. string is a combination of char"
   ]
  },
  {
   "cell_type": "code",
   "execution_count": 10,
   "id": "73078079-b5f6-483d-b204-a824509aeec2",
   "metadata": {},
   "outputs": [],
   "source": [
    "f = 123.45"
   ]
  },
  {
   "cell_type": "code",
   "execution_count": 11,
   "id": "f7e86e0b-5cca-4b8c-96d9-6e5b0f2d99db",
   "metadata": {},
   "outputs": [
    {
     "data": {
      "text/plain": [
       "123.45"
      ]
     },
     "execution_count": 11,
     "metadata": {},
     "output_type": "execute_result"
    }
   ],
   "source": [
    "f"
   ]
  },
  {
   "cell_type": "code",
   "execution_count": 12,
   "id": "99ce124d-9590-46aa-b458-a7add87722e5",
   "metadata": {},
   "outputs": [
    {
     "data": {
      "text/plain": [
       "float"
      ]
     },
     "execution_count": 12,
     "metadata": {},
     "output_type": "execute_result"
    }
   ],
   "source": [
    "type(f)"
   ]
  },
  {
   "cell_type": "markdown",
   "id": "b7bf1126-2ff4-43e6-b3ea-ad93a4e36114",
   "metadata": {},
   "source": [
    "1. Floating is allow us to enter decimal numbers"
   ]
  },
  {
   "cell_type": "code",
   "execution_count": 13,
   "id": "1e3b51e6-d483-4b03-9195-b3b83603f2e8",
   "metadata": {},
   "outputs": [],
   "source": [
    "c = 5 + 6j #j is notation for iota"
   ]
  },
  {
   "cell_type": "code",
   "execution_count": 14,
   "id": "15f9b209-f076-41a4-a0b2-f37dc7b4fc52",
   "metadata": {},
   "outputs": [
    {
     "data": {
      "text/plain": [
       "complex"
      ]
     },
     "execution_count": 14,
     "metadata": {},
     "output_type": "execute_result"
    }
   ],
   "source": [
    "type(c)"
   ]
  },
  {
   "cell_type": "code",
   "execution_count": 15,
   "id": "d7bfaa15-1952-4fb3-9c87-fc51e23ffe20",
   "metadata": {},
   "outputs": [
    {
     "data": {
      "text/plain": [
       "(5+6j)"
      ]
     },
     "execution_count": 15,
     "metadata": {},
     "output_type": "execute_result"
    }
   ],
   "source": [
    "c"
   ]
  },
  {
   "cell_type": "code",
   "execution_count": 16,
   "id": "5bb0cf92-46e3-4b09-a9af-0a4fd37c9e44",
   "metadata": {},
   "outputs": [
    {
     "data": {
      "text/plain": [
       "5.0"
      ]
     },
     "execution_count": 16,
     "metadata": {},
     "output_type": "execute_result"
    }
   ],
   "source": [
    "c.real #real is a inbuilt func"
   ]
  },
  {
   "cell_type": "code",
   "execution_count": 17,
   "id": "ee086421-3045-4eba-ab28-964b0b9c157c",
   "metadata": {},
   "outputs": [
    {
     "data": {
      "text/plain": [
       "6.0"
      ]
     },
     "execution_count": 17,
     "metadata": {},
     "output_type": "execute_result"
    }
   ],
   "source": [
    "c.imag #imag is a inbulit func"
   ]
  },
  {
   "cell_type": "markdown",
   "id": "184048ed-df09-456d-aff2-cd77989eeb08",
   "metadata": {},
   "source": [
    "1. Above is the example for complex datatype"
   ]
  },
  {
   "cell_type": "code",
   "execution_count": 18,
   "id": "cfc7d91c-14ed-42da-a198-9e5135443c87",
   "metadata": {},
   "outputs": [],
   "source": [
    "b = True"
   ]
  },
  {
   "cell_type": "code",
   "execution_count": 19,
   "id": "62441938-131f-4186-81f8-7f97e98f5ac9",
   "metadata": {},
   "outputs": [
    {
     "data": {
      "text/plain": [
       "bool"
      ]
     },
     "execution_count": 19,
     "metadata": {},
     "output_type": "execute_result"
    }
   ],
   "source": [
    "type(b)"
   ]
  },
  {
   "cell_type": "code",
   "execution_count": 20,
   "id": "dbef1cf4-e857-4b2f-b199-fe6ec6025cef",
   "metadata": {},
   "outputs": [
    {
     "data": {
      "text/plain": [
       "True"
      ]
     },
     "execution_count": 20,
     "metadata": {},
     "output_type": "execute_result"
    }
   ],
   "source": [
    "b"
   ]
  },
  {
   "cell_type": "markdown",
   "id": "33a9997b-4af7-4d9b-b6a9-89fd93bc2742",
   "metadata": {},
   "source": [
    "1. creating variable is for reusability"
   ]
  },
  {
   "cell_type": "code",
   "execution_count": 21,
   "id": "5d949e9d-51d0-4a78-acd3-44cf6e63b301",
   "metadata": {},
   "outputs": [],
   "source": [
    "a1 = 10\n",
    "b1 = 23"
   ]
  },
  {
   "cell_type": "code",
   "execution_count": 22,
   "id": "de0ca5df-5be4-44fa-bc23-78b074d61731",
   "metadata": {},
   "outputs": [
    {
     "data": {
      "text/plain": [
       "10"
      ]
     },
     "execution_count": 22,
     "metadata": {},
     "output_type": "execute_result"
    }
   ],
   "source": [
    "a1"
   ]
  },
  {
   "cell_type": "code",
   "execution_count": 23,
   "id": "129d6015-9f2e-4b6e-bc55-0602d230407d",
   "metadata": {},
   "outputs": [
    {
     "data": {
      "text/plain": [
       "23"
      ]
     },
     "execution_count": 23,
     "metadata": {},
     "output_type": "execute_result"
    }
   ],
   "source": [
    "b1"
   ]
  },
  {
   "cell_type": "code",
   "execution_count": 24,
   "id": "3b8520c8-5c20-4710-b78a-8c70d3c1cd48",
   "metadata": {},
   "outputs": [
    {
     "data": {
      "text/plain": [
       "33"
      ]
     },
     "execution_count": 24,
     "metadata": {},
     "output_type": "execute_result"
    }
   ],
   "source": [
    "a1+b1"
   ]
  },
  {
   "cell_type": "code",
   "execution_count": 25,
   "id": "e627f3ce-f1d0-4eda-a75d-03e13bb5214b",
   "metadata": {},
   "outputs": [
    {
     "data": {
      "text/plain": [
       "-13"
      ]
     },
     "execution_count": 25,
     "metadata": {},
     "output_type": "execute_result"
    }
   ],
   "source": [
    "a1-b1"
   ]
  },
  {
   "cell_type": "code",
   "execution_count": 26,
   "id": "8d3b898f-c685-4601-be74-82f255be852a",
   "metadata": {},
   "outputs": [
    {
     "data": {
      "text/plain": [
       "100"
      ]
     },
     "execution_count": 26,
     "metadata": {},
     "output_type": "execute_result"
    }
   ],
   "source": [
    "a1*a1"
   ]
  },
  {
   "cell_type": "code",
   "execution_count": 27,
   "id": "8a9c38b4-1efb-4037-8fce-6a47970dc493",
   "metadata": {},
   "outputs": [],
   "source": [
    "a1, a2 = 23, 34 #multiple variables in single line"
   ]
  },
  {
   "cell_type": "code",
   "execution_count": 28,
   "id": "8b4a5a9d-81c3-4164-bd07-84d956942d2e",
   "metadata": {},
   "outputs": [
    {
     "data": {
      "text/plain": [
       "23"
      ]
     },
     "execution_count": 28,
     "metadata": {},
     "output_type": "execute_result"
    }
   ],
   "source": [
    "a1"
   ]
  },
  {
   "cell_type": "code",
   "execution_count": 29,
   "id": "923c81ed-3485-4527-9964-2bf8f880a803",
   "metadata": {},
   "outputs": [],
   "source": [
    "a,b,c,d = 123,\"Gopi\",12.30,True #all datatypes can be saved in single"
   ]
  },
  {
   "cell_type": "code",
   "execution_count": 30,
   "id": "4961a587-78e7-4b90-ad82-fe854e1f6ba8",
   "metadata": {},
   "outputs": [
    {
     "data": {
      "text/plain": [
       "'Gopi'"
      ]
     },
     "execution_count": 30,
     "metadata": {},
     "output_type": "execute_result"
    }
   ],
   "source": [
    "b"
   ]
  },
  {
   "cell_type": "code",
   "execution_count": 31,
   "id": "8ac33a16-089e-4ca2-9076-85289b76b487",
   "metadata": {},
   "outputs": [
    {
     "data": {
      "text/plain": [
       "float"
      ]
     },
     "execution_count": 31,
     "metadata": {},
     "output_type": "execute_result"
    }
   ],
   "source": [
    "type(c)"
   ]
  },
  {
   "cell_type": "code",
   "execution_count": 32,
   "id": "f22b38d1-b7f4-4763-a02c-ff24fcaf4613",
   "metadata": {},
   "outputs": [
    {
     "name": "stderr",
     "output_type": "stream",
     "text": [
      "UsageError: Line magic function `%a` not found.\n"
     ]
    }
   ],
   "source": [
    "%a = 234"
   ]
  },
  {
   "cell_type": "code",
   "execution_count": 33,
   "id": "e9438bf0-14be-448f-bcaa-c56cf7be870f",
   "metadata": {},
   "outputs": [
    {
     "ename": "SyntaxError",
     "evalue": "invalid binary literal (923969111.py, line 1)",
     "output_type": "error",
     "traceback": [
      "\u001b[0;36m  Cell \u001b[0;32mIn[33], line 1\u001b[0;36m\u001b[0m\n\u001b[0;31m    0b = 234\u001b[0m\n\u001b[0m     ^\u001b[0m\n\u001b[0;31mSyntaxError\u001b[0m\u001b[0;31m:\u001b[0m invalid binary literal\n"
     ]
    }
   ],
   "source": [
    "0b = 234"
   ]
  },
  {
   "cell_type": "code",
   "execution_count": 35,
   "id": "269efd90-3250-4cb7-8764-6483960c1f4b",
   "metadata": {},
   "outputs": [],
   "source": [
    "b0 = 234"
   ]
  },
  {
   "cell_type": "code",
   "execution_count": 36,
   "id": "43763303-56d3-4675-a118-57bbecb3f970",
   "metadata": {},
   "outputs": [
    {
     "ename": "SyntaxError",
     "evalue": "invalid syntax. Maybe you meant '==' or ':=' instead of '='? (3100008785.py, line 1)",
     "output_type": "error",
     "traceback": [
      "\u001b[0;36m  Cell \u001b[0;32mIn[36], line 1\u001b[0;36m\u001b[0m\n\u001b[0;31m    @h = 159\u001b[0m\n\u001b[0m     ^\u001b[0m\n\u001b[0;31mSyntaxError\u001b[0m\u001b[0;31m:\u001b[0m invalid syntax. Maybe you meant '==' or ':=' instead of '='?\n"
     ]
    }
   ],
   "source": [
    "@h = 159"
   ]
  },
  {
   "cell_type": "code",
   "execution_count": 37,
   "id": "24f9555c-44c1-4f5a-a3a5-f86f00e46424",
   "metadata": {},
   "outputs": [],
   "source": [
    "_a = 34"
   ]
  },
  {
   "cell_type": "code",
   "execution_count": 38,
   "id": "30be8742-ed63-4612-a8fe-3271b626cc84",
   "metadata": {},
   "outputs": [
    {
     "ename": "SyntaxError",
     "evalue": "cannot assign to expression here. Maybe you meant '==' instead of '='? (1694425758.py, line 1)",
     "output_type": "error",
     "traceback": [
      "\u001b[0;36m  Cell \u001b[0;32mIn[38], line 1\u001b[0;36m\u001b[0m\n\u001b[0;31m    -b = 234\u001b[0m\n\u001b[0m    ^\u001b[0m\n\u001b[0;31mSyntaxError\u001b[0m\u001b[0;31m:\u001b[0m cannot assign to expression here. Maybe you meant '==' instead of '='?\n"
     ]
    }
   ],
   "source": [
    "-b = 234"
   ]
  },
  {
   "cell_type": "code",
   "execution_count": 39,
   "id": "393ff627-bc86-4ed3-ac22-bed50fc11df3",
   "metadata": {},
   "outputs": [
    {
     "ename": "SyntaxError",
     "evalue": "cannot assign to True (3093263138.py, line 1)",
     "output_type": "error",
     "traceback": [
      "\u001b[0;36m  Cell \u001b[0;32mIn[39], line 1\u001b[0;36m\u001b[0m\n\u001b[0;31m    True = 45\u001b[0m\n\u001b[0m    ^\u001b[0m\n\u001b[0;31mSyntaxError\u001b[0m\u001b[0;31m:\u001b[0m cannot assign to True\n"
     ]
    }
   ],
   "source": [
    "True = 45"
   ]
  },
  {
   "cell_type": "markdown",
   "id": "f6d00d76-efab-46dc-a450-62ceee32b9ac",
   "metadata": {},
   "source": [
    "1. %a is not a acceptable variable % is special character which is not permit\n",
    "2. should not use reserved keywords, some of the special characters"
   ]
  },
  {
   "cell_type": "code",
   "execution_count": 40,
   "id": "2853f34b-0a4e-4e92-b84b-52d0352938b0",
   "metadata": {},
   "outputs": [],
   "source": [
    "b1 = True"
   ]
  },
  {
   "cell_type": "code",
   "execution_count": 41,
   "id": "6c6e6827-2371-4670-b842-836e20d291bf",
   "metadata": {},
   "outputs": [],
   "source": [
    "b2 = False"
   ]
  },
  {
   "cell_type": "markdown",
   "id": "a425b906-42f6-41a1-a68c-aadaf69de956",
   "metadata": {},
   "source": [
    "Boolean will convert internally like True means 1 & False means 0"
   ]
  },
  {
   "cell_type": "code",
   "execution_count": 42,
   "id": "559b9746-3f55-4f60-9dfa-131da49a281a",
   "metadata": {},
   "outputs": [
    {
     "data": {
      "text/plain": [
       "1"
      ]
     },
     "execution_count": 42,
     "metadata": {},
     "output_type": "execute_result"
    }
   ],
   "source": [
    "b1 - b2"
   ]
  },
  {
   "cell_type": "code",
   "execution_count": 43,
   "id": "74d92cf4-4b8d-47ea-a73a-a28697ae5568",
   "metadata": {},
   "outputs": [
    {
     "data": {
      "text/plain": [
       "1"
      ]
     },
     "execution_count": 43,
     "metadata": {},
     "output_type": "execute_result"
    }
   ],
   "source": [
    "b1*b1"
   ]
  },
  {
   "cell_type": "code",
   "execution_count": 44,
   "id": "1e6ce6e4-ef64-462b-9135-abec9961faaa",
   "metadata": {},
   "outputs": [
    {
     "ename": "ZeroDivisionError",
     "evalue": "division by zero",
     "output_type": "error",
     "traceback": [
      "\u001b[0;31m---------------------------------------------------------------------------\u001b[0m",
      "\u001b[0;31mZeroDivisionError\u001b[0m                         Traceback (most recent call last)",
      "Cell \u001b[0;32mIn[44], line 1\u001b[0m\n\u001b[0;32m----> 1\u001b[0m \u001b[43mb1\u001b[49m\u001b[38;5;241;43m/\u001b[39;49m\u001b[43mb2\u001b[49m\n",
      "\u001b[0;31mZeroDivisionError\u001b[0m: division by zero"
     ]
    }
   ],
   "source": [
    "b1/b2"
   ]
  },
  {
   "cell_type": "markdown",
   "id": "404d162e-92f0-4d6a-b77f-682f13fd4978",
   "metadata": {},
   "source": [
    "if anything divided by 0 will return ZeroDivisionError in core python\n",
    "if we are using NumPy it will return as infinity(just like math)"
   ]
  },
  {
   "cell_type": "code",
   "execution_count": 45,
   "id": "ae8e2d58-24fc-4d8a-bd9c-0799e39c5363",
   "metadata": {},
   "outputs": [],
   "source": [
    "s1 = 'my name is Gopi'"
   ]
  },
  {
   "cell_type": "code",
   "execution_count": 46,
   "id": "9f40b547-2ae8-4cf8-9cac-44a65b6e7e82",
   "metadata": {},
   "outputs": [
    {
     "data": {
      "text/plain": [
       "'my name is Gopi'"
      ]
     },
     "execution_count": 46,
     "metadata": {},
     "output_type": "execute_result"
    }
   ],
   "source": [
    "s1"
   ]
  },
  {
   "cell_type": "code",
   "execution_count": 47,
   "id": "eff7d919-9607-44f7-8f65-b8a5daefbc25",
   "metadata": {},
   "outputs": [
    {
     "data": {
      "text/plain": [
       "str"
      ]
     },
     "execution_count": 47,
     "metadata": {},
     "output_type": "execute_result"
    }
   ],
   "source": [
    "type(s1)"
   ]
  },
  {
   "cell_type": "code",
   "execution_count": 48,
   "id": "cb3e7366-8e33-4453-9042-dfebf42238e7",
   "metadata": {},
   "outputs": [
    {
     "ename": "SyntaxError",
     "evalue": "unterminated string literal (detected at line 1) (2402546255.py, line 1)",
     "output_type": "error",
     "traceback": [
      "\u001b[0;36m  Cell \u001b[0;32mIn[48], line 1\u001b[0;36m\u001b[0m\n\u001b[0;31m    s2 = 'this is my first python class for data science master's'\u001b[0m\n\u001b[0m                                                                 ^\u001b[0m\n\u001b[0;31mSyntaxError\u001b[0m\u001b[0;31m:\u001b[0m unterminated string literal (detected at line 1)\n"
     ]
    }
   ],
   "source": [
    "s2 = 'this is my first python class for data science master's'"
   ]
  },
  {
   "cell_type": "markdown",
   "id": "2631c96e-c1e2-4c39-86c8-3b1ccc0dc7cf",
   "metadata": {},
   "source": [
    "System can't understand if we use the string like above it will be consider as mistake by system. To use single quote(') use double quotes outside like below"
   ]
  },
  {
   "cell_type": "code",
   "execution_count": 49,
   "id": "bffb946a-4dc8-4cfa-9cf3-78756d006338",
   "metadata": {},
   "outputs": [],
   "source": [
    "a = \"you're awesome\""
   ]
  },
  {
   "cell_type": "code",
   "execution_count": 50,
   "id": "1835562b-fce0-4520-ae5e-e53a7d623033",
   "metadata": {},
   "outputs": [
    {
     "data": {
      "text/plain": [
       "\"you're awesome\""
      ]
     },
     "execution_count": 50,
     "metadata": {},
     "output_type": "execute_result"
    }
   ],
   "source": [
    "a"
   ]
  },
  {
   "cell_type": "code",
   "execution_count": 51,
   "id": "87d9ba1b-1a02-4d82-ba52-8054fa38b006",
   "metadata": {},
   "outputs": [],
   "source": [
    "#Example for adding single line comments \n",
    "\n",
    "s3 = 'You\"re awesome'"
   ]
  },
  {
   "cell_type": "code",
   "execution_count": 52,
   "id": "e19a7a7c-5ca9-4d39-af62-e09edf27efad",
   "metadata": {},
   "outputs": [
    {
     "data": {
      "text/plain": [
       "'You\"re awesome'"
      ]
     },
     "execution_count": 52,
     "metadata": {},
     "output_type": "execute_result"
    }
   ],
   "source": [
    "s3"
   ]
  },
  {
   "cell_type": "code",
   "execution_count": 53,
   "id": "8ebb814b-e95e-4261-b409-498bcf6546e8",
   "metadata": {},
   "outputs": [],
   "source": [
    "'''Multiline comments - select all then ctrl+/ or use three single quotes\n",
    "this is my first python class\n",
    "I am trying to learn variable declaration\n",
    "so far i have learn int, boolean, string, complex number, float variable decalration'''\n",
    "a = 10"
   ]
  },
  {
   "cell_type": "code",
   "execution_count": 54,
   "id": "1e6d47c4-52e2-4e51-bce7-63b1f91c263c",
   "metadata": {},
   "outputs": [],
   "source": [
    "s1 = 'Gopi'"
   ]
  },
  {
   "cell_type": "code",
   "execution_count": 55,
   "id": "fcc57e8c-701c-439f-95d3-e727fc8c025a",
   "metadata": {},
   "outputs": [],
   "source": [
    "a = 10"
   ]
  },
  {
   "cell_type": "code",
   "execution_count": 56,
   "id": "f8c4e75e-385e-48ab-8cb1-25345dc429d9",
   "metadata": {},
   "outputs": [
    {
     "ename": "TypeError",
     "evalue": "can only concatenate str (not \"int\") to str",
     "output_type": "error",
     "traceback": [
      "\u001b[0;31m---------------------------------------------------------------------------\u001b[0m",
      "\u001b[0;31mTypeError\u001b[0m                                 Traceback (most recent call last)",
      "Cell \u001b[0;32mIn[56], line 1\u001b[0m\n\u001b[0;32m----> 1\u001b[0m \u001b[43ms1\u001b[49m\u001b[43m \u001b[49m\u001b[38;5;241;43m+\u001b[39;49m\u001b[43m \u001b[49m\u001b[43ma\u001b[49m\n",
      "\u001b[0;31mTypeError\u001b[0m: can only concatenate str (not \"int\") to str"
     ]
    }
   ],
   "source": [
    "s1 + a"
   ]
  },
  {
   "cell_type": "code",
   "execution_count": 57,
   "id": "8b4042da-dad7-4b3e-91f9-d64ceb40dc53",
   "metadata": {},
   "outputs": [],
   "source": [
    "s2 = 'nath'"
   ]
  },
  {
   "cell_type": "code",
   "execution_count": 58,
   "id": "de34dafa-b262-4239-b9c4-2be572c330df",
   "metadata": {},
   "outputs": [
    {
     "data": {
      "text/plain": [
       "'Gopinath'"
      ]
     },
     "execution_count": 58,
     "metadata": {},
     "output_type": "execute_result"
    }
   ],
   "source": [
    "s1+s2"
   ]
  },
  {
   "cell_type": "markdown",
   "id": "1f70f03c-6a6e-488f-baa2-79c0fb6cbcd5",
   "metadata": {},
   "source": [
    "'+' operator may not work between two different datatypes"
   ]
  },
  {
   "cell_type": "code",
   "execution_count": 59,
   "id": "c87b8dfc-b8c3-4d49-8b5a-b32084462613",
   "metadata": {},
   "outputs": [
    {
     "data": {
      "text/plain": [
       "'10'"
      ]
     },
     "execution_count": 59,
     "metadata": {},
     "output_type": "execute_result"
    }
   ],
   "source": [
    "# Converting datatypes -typecasting\n",
    "str(a)"
   ]
  },
  {
   "cell_type": "code",
   "execution_count": 60,
   "id": "e717ce92-f271-49fc-83f4-5727f8d0623e",
   "metadata": {},
   "outputs": [
    {
     "data": {
      "text/plain": [
       "int"
      ]
     },
     "execution_count": 60,
     "metadata": {},
     "output_type": "execute_result"
    }
   ],
   "source": [
    "type(a)"
   ]
  },
  {
   "cell_type": "code",
   "execution_count": 61,
   "id": "166cabe4-0e79-4bb2-a067-1b271b3f88fd",
   "metadata": {},
   "outputs": [
    {
     "data": {
      "text/plain": [
       "'Gopi 10'"
      ]
     },
     "execution_count": 61,
     "metadata": {},
     "output_type": "execute_result"
    }
   ],
   "source": [
    "s1 + \" \" + str(a)"
   ]
  },
  {
   "cell_type": "code",
   "execution_count": 62,
   "id": "4b87b0b8-4c16-4cf2-a573-9748be39d0fd",
   "metadata": {},
   "outputs": [
    {
     "data": {
      "text/plain": [
       "10"
      ]
     },
     "execution_count": 62,
     "metadata": {},
     "output_type": "execute_result"
    }
   ],
   "source": [
    "int(a) #if int(reserved keyword) earlier it will throw an error"
   ]
  },
  {
   "cell_type": "code",
   "execution_count": 63,
   "id": "7c8f899b-985e-404e-bcb0-712f7348d4e2",
   "metadata": {},
   "outputs": [
    {
     "data": {
      "text/plain": [
       "int"
      ]
     },
     "execution_count": 63,
     "metadata": {},
     "output_type": "execute_result"
    }
   ],
   "source": [
    "type(a)"
   ]
  },
  {
   "cell_type": "code",
   "execution_count": 64,
   "id": "49a20bca-774b-4c26-a99d-43390b64d92a",
   "metadata": {},
   "outputs": [
    {
     "ename": "ValueError",
     "evalue": "invalid literal for int() with base 10: 'Gopi'",
     "output_type": "error",
     "traceback": [
      "\u001b[0;31m---------------------------------------------------------------------------\u001b[0m",
      "\u001b[0;31mValueError\u001b[0m                                Traceback (most recent call last)",
      "Cell \u001b[0;32mIn[64], line 1\u001b[0m\n\u001b[0;32m----> 1\u001b[0m \u001b[38;5;28;43mint\u001b[39;49m\u001b[43m(\u001b[49m\u001b[43ms1\u001b[49m\u001b[43m)\u001b[49m \u001b[38;5;66;03m#if numerical value inside the str it'll convert otherwise it will an error like below\u001b[39;00m\n",
      "\u001b[0;31mValueError\u001b[0m: invalid literal for int() with base 10: 'Gopi'"
     ]
    }
   ],
   "source": [
    "int(s1) #if numerical value inside the str it'll convert otherwise it will an error like below"
   ]
  },
  {
   "cell_type": "markdown",
   "id": "70de4148-d9cd-4664-b3aa-cb6e7bcc5636",
   "metadata": {},
   "source": [
    "Getting user input below example"
   ]
  },
  {
   "cell_type": "code",
   "execution_count": 66,
   "id": "d3d9d915-63d2-4f03-871e-b7ea39142f1b",
   "metadata": {},
   "outputs": [
    {
     "name": "stdin",
     "output_type": "stream",
     "text": [
      " 1234\n"
     ]
    }
   ],
   "source": [
    "b = input() #inbulit func but default datatype will be str"
   ]
  },
  {
   "cell_type": "code",
   "execution_count": 67,
   "id": "0a16902d-b186-4e46-89a0-fdd7b6b8abb5",
   "metadata": {},
   "outputs": [
    {
     "data": {
      "text/plain": [
       "'1234'"
      ]
     },
     "execution_count": 67,
     "metadata": {},
     "output_type": "execute_result"
    }
   ],
   "source": [
    "b"
   ]
  },
  {
   "cell_type": "code",
   "execution_count": 68,
   "id": "ad99e4c3-a753-4ca5-b511-ec2b1cf91df6",
   "metadata": {},
   "outputs": [
    {
     "data": {
      "text/plain": [
       "str"
      ]
     },
     "execution_count": 68,
     "metadata": {},
     "output_type": "execute_result"
    }
   ],
   "source": [
    "type(b)"
   ]
  },
  {
   "cell_type": "code",
   "execution_count": 69,
   "id": "73f3bace-c597-459c-9ddc-7c7b85f53f5b",
   "metadata": {},
   "outputs": [
    {
     "name": "stdin",
     "output_type": "stream",
     "text": [
      " 125\n"
     ]
    }
   ],
   "source": [
    "a = float(input()) # type casting can be done like this int, bool"
   ]
  },
  {
   "cell_type": "code",
   "execution_count": 70,
   "id": "c490d5ab-bcca-4700-94e1-b279a88432d5",
   "metadata": {},
   "outputs": [
    {
     "data": {
      "text/plain": [
       "125.0"
      ]
     },
     "execution_count": 70,
     "metadata": {},
     "output_type": "execute_result"
    }
   ],
   "source": [
    "a"
   ]
  },
  {
   "cell_type": "code",
   "execution_count": 71,
   "id": "96e7958e-ca33-44ce-94f8-523238c72d40",
   "metadata": {},
   "outputs": [
    {
     "data": {
      "text/plain": [
       "float"
      ]
     },
     "execution_count": 71,
     "metadata": {},
     "output_type": "execute_result"
    }
   ],
   "source": [
    "type(a)"
   ]
  },
  {
   "cell_type": "markdown",
   "id": "adda748b-7e88-43e3-982e-9d62e332e56e",
   "metadata": {},
   "source": [
    "Extracting char from string using indexing and slicing\n",
    "1. Forward indexing will start from 0, 1, 2, ...\n",
    "2. Backward indexing will start -1, -2, -3, ....\n",
    "3. IndexError will occur when we enter out of range of char "
   ]
  },
  {
   "cell_type": "code",
   "execution_count": 72,
   "id": "636f88a8-30c0-454a-80c0-c574f3a19498",
   "metadata": {},
   "outputs": [],
   "source": [
    "s = \"Gopinath\""
   ]
  },
  {
   "cell_type": "code",
   "execution_count": 73,
   "id": "113de8a3-40b1-43a7-a703-b5c2d4af82b5",
   "metadata": {},
   "outputs": [
    {
     "data": {
      "text/plain": [
       "'o'"
      ]
     },
     "execution_count": 73,
     "metadata": {},
     "output_type": "execute_result"
    }
   ],
   "source": [
    "s[1]"
   ]
  },
  {
   "cell_type": "code",
   "execution_count": 74,
   "id": "b102cadb-c91b-4985-b558-5faf8c4e45ad",
   "metadata": {},
   "outputs": [
    {
     "data": {
      "text/plain": [
       "'i'"
      ]
     },
     "execution_count": 74,
     "metadata": {},
     "output_type": "execute_result"
    }
   ],
   "source": [
    "s[-5]"
   ]
  },
  {
   "cell_type": "code",
   "execution_count": 75,
   "id": "b01081aa-af88-4dc4-9d14-e735c3ca5ba6",
   "metadata": {},
   "outputs": [
    {
     "ename": "IndexError",
     "evalue": "string index out of range",
     "output_type": "error",
     "traceback": [
      "\u001b[0;31m---------------------------------------------------------------------------\u001b[0m",
      "\u001b[0;31mIndexError\u001b[0m                                Traceback (most recent call last)",
      "Cell \u001b[0;32mIn[75], line 1\u001b[0m\n\u001b[0;32m----> 1\u001b[0m \u001b[43ms\u001b[49m\u001b[43m[\u001b[49m\u001b[38;5;241;43m100\u001b[39;49m\u001b[43m]\u001b[49m\n",
      "\u001b[0;31mIndexError\u001b[0m: string index out of range"
     ]
    }
   ],
   "source": [
    "s[100]"
   ]
  },
  {
   "cell_type": "code",
   "execution_count": 76,
   "id": "a52cb468-6794-4177-9a97-2c8f08af2557",
   "metadata": {},
   "outputs": [
    {
     "ename": "IndexError",
     "evalue": "string index out of range",
     "output_type": "error",
     "traceback": [
      "\u001b[0;31m---------------------------------------------------------------------------\u001b[0m",
      "\u001b[0;31mIndexError\u001b[0m                                Traceback (most recent call last)",
      "Cell \u001b[0;32mIn[76], line 1\u001b[0m\n\u001b[0;32m----> 1\u001b[0m \u001b[43ms\u001b[49m\u001b[43m[\u001b[49m\u001b[38;5;241;43m-\u001b[39;49m\u001b[38;5;241;43m15\u001b[39;49m\u001b[43m]\u001b[49m\n",
      "\u001b[0;31mIndexError\u001b[0m: string index out of range"
     ]
    }
   ],
   "source": [
    "s[-15]"
   ]
  },
  {
   "cell_type": "code",
   "execution_count": 80,
   "id": "1f9594cd-236f-4d28-a212-c943ccf47bea",
   "metadata": {},
   "outputs": [],
   "source": [
    "s1 = \"pwskills\" #slicing the data"
   ]
  },
  {
   "cell_type": "code",
   "execution_count": 84,
   "id": "9c6a5d5a-ebc2-43c9-ad1d-e33a59ed2511",
   "metadata": {},
   "outputs": [
    {
     "data": {
      "text/plain": [
       "'pw'"
      ]
     },
     "execution_count": 84,
     "metadata": {},
     "output_type": "execute_result"
    }
   ],
   "source": [
    "s1[0:2] #0 starting point and 2 is ending point(upbound -1)"
   ]
  },
  {
   "cell_type": "code",
   "execution_count": 86,
   "id": "1fddabf1-aee2-45dd-bf7e-810735474cfc",
   "metadata": {},
   "outputs": [
    {
     "data": {
      "text/plain": [
       "'skill'"
      ]
     },
     "execution_count": 86,
     "metadata": {},
     "output_type": "execute_result"
    }
   ],
   "source": [
    "s1[2:7]"
   ]
  },
  {
   "cell_type": "code",
   "execution_count": 91,
   "id": "54137b3c-f116-4672-8443-c397b4e7284d",
   "metadata": {},
   "outputs": [
    {
     "data": {
      "text/plain": [
       "'skills'"
      ]
     },
     "execution_count": 91,
     "metadata": {},
     "output_type": "execute_result"
    }
   ],
   "source": [
    "s1[2:8000] # slicing will execute eventhough we give upbound like this"
   ]
  },
  {
   "cell_type": "code",
   "execution_count": 92,
   "id": "7b63a889-9a4a-431b-bf11-d1dbac388fa9",
   "metadata": {},
   "outputs": [
    {
     "data": {
      "text/plain": [
       "'skills'"
      ]
     },
     "execution_count": 92,
     "metadata": {},
     "output_type": "execute_result"
    }
   ],
   "source": [
    "s1[2:]"
   ]
  },
  {
   "cell_type": "markdown",
   "id": "57473f47-d598-479e-82c0-22302b706dee",
   "metadata": {},
   "source": [
    "I need specific data instead of sequece"
   ]
  },
  {
   "cell_type": "code",
   "execution_count": 101,
   "id": "302da12a-8fa9-425f-bfae-fa94023de7df",
   "metadata": {},
   "outputs": [
    {
     "data": {
      "text/plain": [
       "'psil'"
      ]
     },
     "execution_count": 101,
     "metadata": {},
     "output_type": "execute_result"
    }
   ],
   "source": [
    "s1[0:7:2] # starting point:end Point:jump/step point(default 1 is jumping point)"
   ]
  },
  {
   "cell_type": "code",
   "execution_count": 99,
   "id": "aa6f98fc-4356-4abe-98cd-0e59c0cb0b97",
   "metadata": {},
   "outputs": [
    {
     "data": {
      "text/plain": [
       "'pwskills'"
      ]
     },
     "execution_count": 99,
     "metadata": {},
     "output_type": "execute_result"
    }
   ],
   "source": [
    "s1"
   ]
  },
  {
   "cell_type": "code",
   "execution_count": 103,
   "id": "445485e4-ca57-4fe9-a34e-24abafcea17e",
   "metadata": {},
   "outputs": [
    {
     "data": {
      "text/plain": [
       "''"
      ]
     },
     "execution_count": 103,
     "metadata": {},
     "output_type": "execute_result"
    }
   ],
   "source": [
    "s1[7:3] #slicing will jump positive direction not negative direction"
   ]
  },
  {
   "cell_type": "code",
   "execution_count": 105,
   "id": "c26abfc6-be72-4588-82a5-ed8eed82fc06",
   "metadata": {},
   "outputs": [
    {
     "data": {
      "text/plain": [
       "'slli'"
      ]
     },
     "execution_count": 105,
     "metadata": {},
     "output_type": "execute_result"
    }
   ],
   "source": [
    "s1[7:3:-1] #to overcome above follow this"
   ]
  },
  {
   "cell_type": "code",
   "execution_count": 106,
   "id": "afda5011-7d80-47ae-a833-2491eabe7dcd",
   "metadata": {},
   "outputs": [
    {
     "data": {
      "text/plain": [
       "''"
      ]
     },
     "execution_count": 106,
     "metadata": {},
     "output_type": "execute_result"
    }
   ],
   "source": [
    "s1[-1:-5]"
   ]
  },
  {
   "cell_type": "code",
   "execution_count": 107,
   "id": "1eeb4f97-660d-4d1b-b023-bfb67b184e53",
   "metadata": {},
   "outputs": [
    {
     "data": {
      "text/plain": [
       "'slli'"
      ]
     },
     "execution_count": 107,
     "metadata": {},
     "output_type": "execute_result"
    }
   ],
   "source": [
    "s1[-1:-5:-1] #data and slicing should be same direction"
   ]
  },
  {
   "cell_type": "code",
   "execution_count": 113,
   "id": "ba7f2d61-f102-4d10-957f-ea7a4ea4371a",
   "metadata": {},
   "outputs": [
    {
     "data": {
      "text/plain": [
       "'slliksw'"
      ]
     },
     "execution_count": 113,
     "metadata": {},
     "output_type": "execute_result"
    }
   ],
   "source": [
    "s1[7:0:-1]"
   ]
  },
  {
   "cell_type": "code",
   "execution_count": 114,
   "id": "172e5084-7d47-465c-a606-7f766f1aaf07",
   "metadata": {},
   "outputs": [
    {
     "data": {
      "text/plain": [
       "'sllikswp'"
      ]
     },
     "execution_count": 114,
     "metadata": {},
     "output_type": "execute_result"
    }
   ],
   "source": [
    "s1[7::-1]"
   ]
  },
  {
   "cell_type": "code",
   "execution_count": 115,
   "id": "b092dbb8-dfc4-426d-ad53-2da13c8bc52c",
   "metadata": {},
   "outputs": [
    {
     "data": {
      "text/plain": [
       "'sllikswp'"
      ]
     },
     "execution_count": 115,
     "metadata": {},
     "output_type": "execute_result"
    }
   ],
   "source": [
    "s1[::-1]"
   ]
  },
  {
   "cell_type": "code",
   "execution_count": 117,
   "id": "fff37699-2944-47ac-9605-5d4915451e80",
   "metadata": {},
   "outputs": [
    {
     "data": {
      "text/plain": [
       "'sllikswp'"
      ]
     },
     "execution_count": 117,
     "metadata": {},
     "output_type": "execute_result"
    }
   ],
   "source": [
    "s1[7:-9:-1] # -9 is working as upbound"
   ]
  },
  {
   "cell_type": "code",
   "execution_count": 118,
   "id": "6d82b9bb-3a0c-41e7-9fff-2aacc599c7a5",
   "metadata": {},
   "outputs": [
    {
     "data": {
      "text/plain": [
       "'p'"
      ]
     },
     "execution_count": 118,
     "metadata": {},
     "output_type": "execute_result"
    }
   ],
   "source": [
    "s1[0]"
   ]
  },
  {
   "cell_type": "code",
   "execution_count": 121,
   "id": "045b030b-296e-4e7c-9182-d875c2f2b391",
   "metadata": {},
   "outputs": [
    {
     "ename": "TypeError",
     "evalue": "'str' object does not support item assignment",
     "output_type": "error",
     "traceback": [
      "\u001b[0;31m---------------------------------------------------------------------------\u001b[0m",
      "\u001b[0;31mTypeError\u001b[0m                                 Traceback (most recent call last)",
      "Cell \u001b[0;32mIn[121], line 1\u001b[0m\n\u001b[0;32m----> 1\u001b[0m \u001b[43ms1\u001b[49m\u001b[43m[\u001b[49m\u001b[38;5;241;43m0\u001b[39;49m\u001b[43m]\u001b[49m \u001b[38;5;241m=\u001b[39m \u001b[38;5;124m'\u001b[39m\u001b[38;5;124ms\u001b[39m\u001b[38;5;124m'\u001b[39m \u001b[38;5;66;03m#reassignment will not work like this in STR datatype because this immutable datatype\u001b[39;00m\n",
      "\u001b[0;31mTypeError\u001b[0m: 'str' object does not support item assignment"
     ]
    }
   ],
   "source": [
    "s1[0] = 's' #reassignment will not work like this in STR datatype because this immutable datatype"
   ]
  },
  {
   "cell_type": "code",
   "execution_count": null,
   "id": "56f96f40-a6b4-4d80-b4d3-ea558803b6f0",
   "metadata": {},
   "outputs": [],
   "source": []
  }
 ],
 "metadata": {
  "kernelspec": {
   "display_name": "Python 3 (ipykernel)",
   "language": "python",
   "name": "python3"
  },
  "language_info": {
   "codemirror_mode": {
    "name": "ipython",
    "version": 3
   },
   "file_extension": ".py",
   "mimetype": "text/x-python",
   "name": "python",
   "nbconvert_exporter": "python",
   "pygments_lexer": "ipython3",
   "version": "3.10.8"
  }
 },
 "nbformat": 4,
 "nbformat_minor": 5
}
